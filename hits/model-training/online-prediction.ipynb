{
 "cells": [
  {
   "cell_type": "code",
   "execution_count": 16,
   "id": "ce6903a3-8f5c-4b2d-b8fa-ef60e536735b",
   "metadata": {
    "tags": []
   },
   "outputs": [],
   "source": [
    "import pandas as pd\n",
    "from typing import Dict\n",
    "\n",
    "from google.cloud import aiplatform\n",
    "from google.protobuf import json_format\n",
    "from google.protobuf.struct_pb2 import Value"
   ]
  },
  {
   "cell_type": "code",
   "execution_count": 2,
   "id": "dcd18d66-36b1-4927-87a4-f92f44d89a00",
   "metadata": {
    "tags": []
   },
   "outputs": [],
   "source": [
    "%store -r batch_pred_df"
   ]
  },
  {
   "cell_type": "code",
   "execution_count": 3,
   "id": "e76149f2-672f-4fd5-a06a-b19f0208fb2b",
   "metadata": {
    "tags": []
   },
   "outputs": [],
   "source": [
    "batch_pred_df = batch_pred_df"
   ]
  },
  {
   "cell_type": "code",
   "execution_count": 4,
   "id": "8ae8b11a-da21-45ed-9d10-cac2cd184ec3",
   "metadata": {
    "tags": []
   },
   "outputs": [
    {
     "data": {
      "text/html": [
       "<div>\n",
       "<style scoped>\n",
       "    .dataframe tbody tr th:only-of-type {\n",
       "        vertical-align: middle;\n",
       "    }\n",
       "\n",
       "    .dataframe tbody tr th {\n",
       "        vertical-align: top;\n",
       "    }\n",
       "\n",
       "    .dataframe thead th {\n",
       "        text-align: right;\n",
       "    }\n",
       "</style>\n",
       "<table border=\"1\" class=\"dataframe\">\n",
       "  <thead>\n",
       "    <tr style=\"text-align: right;\">\n",
       "      <th></th>\n",
       "      <th>day</th>\n",
       "      <th>month</th>\n",
       "      <th>year</th>\n",
       "      <th>hits</th>\n",
       "      <th>page_views</th>\n",
       "      <th>time_on_site</th>\n",
       "      <th>hour</th>\n",
       "      <th>minute</th>\n",
       "      <th>device</th>\n",
       "      <th>sub_continent</th>\n",
       "      <th>country</th>\n",
       "      <th>product_category</th>\n",
       "      <th>product_name</th>\n",
       "      <th>product_price</th>\n",
       "      <th>add_to_cart</th>\n",
       "    </tr>\n",
       "  </thead>\n",
       "  <tbody>\n",
       "    <tr>\n",
       "      <th>0</th>\n",
       "      <td>16</td>\n",
       "      <td>5</td>\n",
       "      <td>2017</td>\n",
       "      <td>2</td>\n",
       "      <td>2</td>\n",
       "      <td>43</td>\n",
       "      <td>20</td>\n",
       "      <td>1</td>\n",
       "      <td>desktop</td>\n",
       "      <td>Northern America</td>\n",
       "      <td>United States</td>\n",
       "      <td>Home/Apparel/Men's/Men's-T-Shirts</td>\n",
       "      <td>Google Men's 100% Cotton Short Sleeve Hero Tee...</td>\n",
       "      <td>24.2</td>\n",
       "      <td>0</td>\n",
       "    </tr>\n",
       "    <tr>\n",
       "      <th>1</th>\n",
       "      <td>16</td>\n",
       "      <td>5</td>\n",
       "      <td>2017</td>\n",
       "      <td>2</td>\n",
       "      <td>2</td>\n",
       "      <td>43</td>\n",
       "      <td>20</td>\n",
       "      <td>2</td>\n",
       "      <td>desktop</td>\n",
       "      <td>Northern America</td>\n",
       "      <td>United States</td>\n",
       "      <td>Home/Apparel/Men's/Men's-Outerwear</td>\n",
       "      <td>Google Men's  Zip Hoodie</td>\n",
       "      <td>55.99</td>\n",
       "      <td>0</td>\n",
       "    </tr>\n",
       "    <tr>\n",
       "      <th>2</th>\n",
       "      <td>16</td>\n",
       "      <td>5</td>\n",
       "      <td>2017</td>\n",
       "      <td>2</td>\n",
       "      <td>2</td>\n",
       "      <td>43</td>\n",
       "      <td>20</td>\n",
       "      <td>2</td>\n",
       "      <td>desktop</td>\n",
       "      <td>Northern America</td>\n",
       "      <td>United States</td>\n",
       "      <td>Home/Apparel/Men's/Men's-Outerwear</td>\n",
       "      <td>Android Men's  Zip Hoodie</td>\n",
       "      <td>55.99</td>\n",
       "      <td>0</td>\n",
       "    </tr>\n",
       "  </tbody>\n",
       "</table>\n",
       "</div>"
      ],
      "text/plain": [
       "   day  month  year  hits  page_views  time_on_site  hour  minute   device  \\\n",
       "0   16      5  2017     2           2            43    20       1  desktop   \n",
       "1   16      5  2017     2           2            43    20       2  desktop   \n",
       "2   16      5  2017     2           2            43    20       2  desktop   \n",
       "\n",
       "      sub_continent        country                    product_category  \\\n",
       "0  Northern America  United States   Home/Apparel/Men's/Men's-T-Shirts   \n",
       "1  Northern America  United States  Home/Apparel/Men's/Men's-Outerwear   \n",
       "2  Northern America  United States  Home/Apparel/Men's/Men's-Outerwear   \n",
       "\n",
       "                                        product_name  product_price  \\\n",
       "0  Google Men's 100% Cotton Short Sleeve Hero Tee...           24.2   \n",
       "1                           Google Men's  Zip Hoodie          55.99   \n",
       "2                          Android Men's  Zip Hoodie          55.99   \n",
       "\n",
       "   add_to_cart  \n",
       "0            0  \n",
       "1            0  \n",
       "2            0  "
      ]
     },
     "metadata": {},
     "output_type": "display_data"
    }
   ],
   "source": [
    "display(batch_pred_df.head(3))"
   ]
  },
  {
   "cell_type": "code",
   "execution_count": 33,
   "id": "3e022bbd-83ae-48e0-859d-df7c3972f669",
   "metadata": {
    "tags": []
   },
   "outputs": [],
   "source": [
    "# testing_df = batch_pred_df.iloc[:5]"
   ]
  },
  {
   "cell_type": "code",
   "execution_count": 25,
   "id": "8a08c26b-40be-4fbf-a30a-33436fafbe50",
   "metadata": {
    "tags": []
   },
   "outputs": [],
   "source": [
    "def predict_tabular_classification_sample(\n",
    "    project: str,\n",
    "    endpoint_id: str,\n",
    "    instance_dict: Dict,\n",
    "    location: str = \"us-central1\",\n",
    "    api_endpoint: str = \"us-west1-aiplatform.googleapis.com\",\n",
    "):\n",
    "    # The AI Platform services require regional API endpoints.\n",
    "    client_options = {\"api_endpoint\": api_endpoint}\n",
    "    # Initialize client that will be used to create and send requests.\n",
    "    # This client only needs to be created once, and can be reused for multiple requests.\n",
    "    client = aiplatform.gapic.PredictionServiceClient(client_options=client_options)\n",
    "    # for more info on the instance schema, please use get_model_sample.py\n",
    "    # and look at the yaml found in instance_schema_uri\n",
    "    instance = json_format.ParseDict(instance_dict, Value())\n",
    "    instances = [instance]\n",
    "    parameters_dict = {}\n",
    "    parameters = json_format.ParseDict(parameters_dict, Value())\n",
    "    endpoint = client.endpoint_path(\n",
    "        project=project, location=location, endpoint=endpoint_id\n",
    "    )\n",
    "    response = client.predict(\n",
    "        endpoint=endpoint, instances=instances, parameters=parameters\n",
    "    )\n",
    "    print(\"response\")\n",
    "    print(\" deployed_model_id:\", response.deployed_model_id)\n",
    "    # See gs://google-cloud-aiplatform/schema/predict/prediction/tabular_classification_1.0.0.yaml for the format of the predictions.\n",
    "    predictions = response.predictions\n",
    "    for prediction in predictions:\n",
    "        print(\" prediction:\", dict(prediction))"
   ]
  },
  {
   "cell_type": "code",
   "execution_count": null,
   "id": "5cfe9371-c853-4aff-b6ff-f26efe70fe49",
   "metadata": {},
   "outputs": [],
   "source": [
    "predict_tabular_classification_sample"
   ]
  },
  {
   "cell_type": "code",
   "execution_count": 32,
   "id": "76300467-e352-4e80-a853-515da23a6c46",
   "metadata": {
    "tags": []
   },
   "outputs": [
    {
     "name": "stdout",
     "output_type": "stream",
     "text": [
      "response\n",
      " deployed_model_id: 2593866677179383808\n",
      " prediction: {'classes': ['0', '1'], 'scores': [0.9999443888664246, 5.560415593208745e-05]}\n"
     ]
    }
   ],
   "source": [
    "predict_tabular_classification_sample(\n",
    "    project=\"319407066227\",\n",
    "    endpoint_id=\"5518519228551921664\",\n",
    "    location=\"us-west1\",\n",
    "    instance_dict={\"day\":'16',\"month\":'5',\"year\":'2017',\"hits\":'2',\"page_views\":'2',\"time_on_site\":'43',\"hour\":'20',\"minute\":'1',\"device\":\"desktop\",\"sub_continent\":\"Northern America\",\"country\":\"United States\",\"product_category\":\"Home/Apparel/Men's/Men's-T-Shirts\",\"product_name\":\"Google Men's 100% Cotton Short Sleeve Hero Tee White\",\"product_price\":24.2},\n",
    "    api_endpoint=\"us-west1-aiplatform.googleapis.com\"\n",
    ")"
   ]
  },
  {
   "cell_type": "code",
   "execution_count": null,
   "id": "e004e752-d96d-4a06-9aad-d1a13cd33fbf",
   "metadata": {},
   "outputs": [],
   "source": []
  }
 ],
 "metadata": {
  "environment": {
   "kernel": "conda-root-py",
   "name": "workbench-notebooks.m115",
   "type": "gcloud",
   "uri": "gcr.io/deeplearning-platform-release/workbench-notebooks:m115"
  },
  "kernelspec": {
   "display_name": "Python 3 (ipykernel) (Local)",
   "language": "python",
   "name": "conda-root-py"
  },
  "language_info": {
   "codemirror_mode": {
    "name": "ipython",
    "version": 3
   },
   "file_extension": ".py",
   "mimetype": "text/x-python",
   "name": "python",
   "nbconvert_exporter": "python",
   "pygments_lexer": "ipython3",
   "version": "3.10.13"
  }
 },
 "nbformat": 4,
 "nbformat_minor": 5
}

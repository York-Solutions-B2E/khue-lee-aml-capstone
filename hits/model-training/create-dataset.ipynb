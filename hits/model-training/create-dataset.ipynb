{
 "cells": [
  {
   "cell_type": "code",
   "execution_count": 11,
   "id": "2b409904-7e3a-4048-b30d-bdd46bfb2cfa",
   "metadata": {
    "tags": []
   },
   "outputs": [],
   "source": [
    "from google.cloud import aiplatform\n",
    "from pandas_gbq import to_gbq\n"
   ]
  },
  {
   "cell_type": "code",
   "execution_count": 12,
   "id": "99c3dc46-eab1-4fd4-9c16-4959a40cd806",
   "metadata": {
    "tags": []
   },
   "outputs": [],
   "source": [
    "# pip install pandas-gbq"
   ]
  },
  {
   "cell_type": "code",
   "execution_count": 13,
   "id": "ac0412a5-81ca-4f2a-9f51-43c2c1a81d51",
   "metadata": {
    "tags": []
   },
   "outputs": [],
   "source": [
    "aiplatform.init(location='us-west1')"
   ]
  },
  {
   "cell_type": "code",
   "execution_count": 14,
   "id": "e745a6b0-81a9-46e4-88a2-945010263e01",
   "metadata": {
    "tags": []
   },
   "outputs": [],
   "source": [
    "%store -r eda_df"
   ]
  },
  {
   "cell_type": "code",
   "execution_count": 15,
   "id": "669010a7-faff-48b6-b6de-37a692ec7f85",
   "metadata": {
    "tags": []
   },
   "outputs": [],
   "source": [
    "eda_df = eda_df"
   ]
  },
  {
   "cell_type": "code",
   "execution_count": 17,
   "id": "ceea971b-85e2-4026-8153-96639c0dff5f",
   "metadata": {
    "tags": []
   },
   "outputs": [
    {
     "name": "stdout",
     "output_type": "stream",
     "text": [
      "Creating TabularDataset\n",
      "Create TabularDataset backing LRO: projects/319407066227/locations/us-west1/datasets/6773378655193137152/operations/2563219989578383360\n",
      "TabularDataset created. Resource name: projects/319407066227/locations/us-west1/datasets/6773378655193137152\n",
      "To use this TabularDataset in another session:\n",
      "ds = aiplatform.TabularDataset('projects/319407066227/locations/us-west1/datasets/6773378655193137152')\n"
     ]
    }
   ],
   "source": [
    "create_dataset = aiplatform.TabularDataset.create_from_dataframe(\n",
    "    staging_path='bq://york-bb-cohort.khue_capstone.hits-data',\n",
    "    df_source=eda_df,\n",
    "    display_name='khue-hits-dataset')\n",
    "create_dataset.wait()"
   ]
  },
  {
   "cell_type": "code",
   "execution_count": 3,
   "id": "f71ebc0e-1442-442e-8a73-f9dab0344d64",
   "metadata": {},
   "outputs": [],
   "source": [
    "%store -r batch_pred_df"
   ]
  },
  {
   "cell_type": "code",
   "execution_count": 9,
   "id": "4dfe7d7a-a755-425e-bad8-aa1b605e7196",
   "metadata": {
    "tags": []
   },
   "outputs": [],
   "source": [
    "destination_table = 'york-bb-cohort.khue_capstone.hits-data'"
   ]
  },
  {
   "cell_type": "code",
   "execution_count": 10,
   "id": "f5b9fd34-a735-411d-8716-eaa021f23538",
   "metadata": {
    "tags": []
   },
   "outputs": [
    {
     "name": "stderr",
     "output_type": "stream",
     "text": [
      "100%|██████████| 1/1 [00:00<00:00, 4124.19it/s]\n"
     ]
    }
   ],
   "source": [
    "to_gbq(batch_pred_df, destination_table, project_id='york-bb-cohort', if_exists='replace')"
   ]
  },
  {
   "cell_type": "code",
   "execution_count": null,
   "id": "780d46ca-e351-43e7-bbec-b4d4be1e19ed",
   "metadata": {},
   "outputs": [],
   "source": []
  }
 ],
 "metadata": {
  "environment": {
   "kernel": "conda-root-py",
   "name": "workbench-notebooks.m115",
   "type": "gcloud",
   "uri": "gcr.io/deeplearning-platform-release/workbench-notebooks:m115"
  },
  "kernelspec": {
   "display_name": "Python 3 (ipykernel) (Local)",
   "language": "python",
   "name": "conda-root-py"
  },
  "language_info": {
   "codemirror_mode": {
    "name": "ipython",
    "version": 3
   },
   "file_extension": ".py",
   "mimetype": "text/x-python",
   "name": "python",
   "nbconvert_exporter": "python",
   "pygments_lexer": "ipython3",
   "version": "3.10.13"
  }
 },
 "nbformat": 4,
 "nbformat_minor": 5
}

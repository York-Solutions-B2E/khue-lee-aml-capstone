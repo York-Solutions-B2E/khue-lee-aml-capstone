{
 "cells": [
  {
   "cell_type": "code",
   "execution_count": 2,
   "id": "2f857da6-5bf4-40b6-8d27-8fc2fe0c82d8",
   "metadata": {
    "tags": []
   },
   "outputs": [],
   "source": [
    "import pandas as pd"
   ]
  },
  {
   "cell_type": "code",
   "execution_count": 3,
   "id": "376a4fd7-f102-45a4-ab4f-306dadcf68d3",
   "metadata": {
    "tags": []
   },
   "outputs": [],
   "source": [
    "PROJECT_ID = !(gcloud config get-value core/project)\n",
    "PROJECT_ID = PROJECT_ID[0]\n",
    "\n",
    "BQ_LOCATION = 'US'\n",
    "REGION = 'us-east1'"
   ]
  },
  {
   "cell_type": "code",
   "execution_count": 4,
   "id": "5f58867d-ef7f-49c8-a01e-91a2f448c49e",
   "metadata": {
    "tags": []
   },
   "outputs": [
    {
     "data": {
      "application/vnd.jupyter.widget-view+json": {
       "model_id": "7b9fb96bca09474f8921f9861f7ff460",
       "version_major": 2,
       "version_minor": 0
      },
      "text/plain": [
       "Query is running:   0%|          |"
      ]
     },
     "metadata": {},
     "output_type": "display_data"
    },
    {
     "data": {
      "application/vnd.jupyter.widget-view+json": {
       "model_id": "a38ea149e3dc4f2fbbcfc3e38061fea5",
       "version_major": 2,
       "version_minor": 0
      },
      "text/plain": [
       "Downloading:   0%|          |"
      ]
     },
     "metadata": {},
     "output_type": "display_data"
    }
   ],
   "source": [
    "%%bigquery hits_df --project $PROJECT_ID\n",
    "SELECT DISTINCT\n",
    "  CONCAT(fullVisitorId, visitId) AS session_id,\n",
    "  SUBSTR(date, 7, 2) AS day,\n",
    "  SUBSTR(date, 5, 2) AS month,\n",
    "  SUBSTR(date, 1, 4) AS year,\n",
    "  totals.hits,\n",
    "  totals.pageviews AS page_views,\n",
    "  totals.bounces,\n",
    "  totals.timeOnSite AS time_on_site,\n",
    "  hour,\n",
    "  minute,\n",
    "  device.deviceCategory AS device,\n",
    "  geoNetwork.subContinent AS sub_continent,\n",
    "  geoNetwork.country,\n",
    "  product_category,\n",
    "  product_name,\n",
    "  product_price,\n",
    "  add_to_cart,\n",
    "FROM\n",
    "  `bigquery-public-data.google_analytics_sample.ga_sessions_*`\n",
    "LEFT JOIN (\n",
    "  SELECT\n",
    "    CONCAT(fullVisitorId, visitId) AS session_id,\n",
    "    MAX(CASE hit.eCommerceAction.action_type = '3' WHEN TRUE THEN 1 ELSE 0 END) AS add_to_cart,\n",
    "    hit.hour AS hour,\n",
    "    hit.minute AS minute,\n",
    "    product.v2ProductName AS product_name,\n",
    "    product.v2ProductCategory AS product_category,\n",
    "    CAST(AVG(product.localProductPrice) AS INT64) AS product_price\n",
    "  FROM\n",
    "    `bigquery-public-data.google_analytics_sample.ga_sessions_*`,\n",
    "    UNNEST(hits) AS hit\n",
    "    LEFT JOIN UNNEST(hit.product) AS product\n",
    "  WHERE\n",
    "    _TABLE_SUFFIX BETWEEN '20161101' AND '20161130'\n",
    "  GROUP BY\n",
    "    session_id,\n",
    "    hit.hour,\n",
    "    hit.minute,\n",
    "    product_name,\n",
    "    product_category\n",
    ") AS target_table ON CONCAT(fullVisitorId, visitId) = target_table.session_id\n",
    "WHERE\n",
    "  (_TABLE_SUFFIX BETWEEN '20161101' AND '20161130')\n",
    "  AND totals.bounces IS NULL\n",
    "ORDER BY session_id"
   ]
  },
  {
   "cell_type": "code",
   "execution_count": 8,
   "id": "641593b9-0ca4-4204-a746-c3b9a715b469",
   "metadata": {
    "tags": []
   },
   "outputs": [
    {
     "data": {
      "text/html": [
       "<div>\n",
       "<style scoped>\n",
       "    .dataframe tbody tr th:only-of-type {\n",
       "        vertical-align: middle;\n",
       "    }\n",
       "\n",
       "    .dataframe tbody tr th {\n",
       "        vertical-align: top;\n",
       "    }\n",
       "\n",
       "    .dataframe thead th {\n",
       "        text-align: right;\n",
       "    }\n",
       "</style>\n",
       "<table border=\"1\" class=\"dataframe\">\n",
       "  <thead>\n",
       "    <tr style=\"text-align: right;\">\n",
       "      <th></th>\n",
       "      <th>session_id</th>\n",
       "      <th>day</th>\n",
       "      <th>month</th>\n",
       "      <th>year</th>\n",
       "      <th>hits</th>\n",
       "      <th>page_views</th>\n",
       "      <th>bounces</th>\n",
       "      <th>time_on_site</th>\n",
       "      <th>hour</th>\n",
       "      <th>minute</th>\n",
       "      <th>device</th>\n",
       "      <th>sub_continent</th>\n",
       "      <th>country</th>\n",
       "      <th>product_category</th>\n",
       "      <th>product_name</th>\n",
       "      <th>product_price</th>\n",
       "      <th>add_to_cart</th>\n",
       "    </tr>\n",
       "  </thead>\n",
       "  <tbody>\n",
       "    <tr>\n",
       "      <th>0</th>\n",
       "      <td>00000204243422487471480578901</td>\n",
       "      <td>30</td>\n",
       "      <td>11</td>\n",
       "      <td>2016</td>\n",
       "      <td>17</td>\n",
       "      <td>13</td>\n",
       "      <td>&lt;NA&gt;</td>\n",
       "      <td>297</td>\n",
       "      <td>23</td>\n",
       "      <td>55</td>\n",
       "      <td>desktop</td>\n",
       "      <td>South America</td>\n",
       "      <td>Peru</td>\n",
       "      <td>Home/Shop by Brand/Google/</td>\n",
       "      <td>Google Men's 100% Cotton Short Sleeve Hero Tee...</td>\n",
       "      <td>16990000</td>\n",
       "      <td>0</td>\n",
       "    </tr>\n",
       "    <tr>\n",
       "      <th>1</th>\n",
       "      <td>00000204243422487471480578901</td>\n",
       "      <td>30</td>\n",
       "      <td>11</td>\n",
       "      <td>2016</td>\n",
       "      <td>17</td>\n",
       "      <td>13</td>\n",
       "      <td>&lt;NA&gt;</td>\n",
       "      <td>297</td>\n",
       "      <td>23</td>\n",
       "      <td>58</td>\n",
       "      <td>desktop</td>\n",
       "      <td>South America</td>\n",
       "      <td>Peru</td>\n",
       "      <td>Home/Electronics/</td>\n",
       "      <td>Google Device Holder Sticky Pad</td>\n",
       "      <td>4990000</td>\n",
       "      <td>0</td>\n",
       "    </tr>\n",
       "    <tr>\n",
       "      <th>2</th>\n",
       "      <td>00000204243422487471480578901</td>\n",
       "      <td>30</td>\n",
       "      <td>11</td>\n",
       "      <td>2016</td>\n",
       "      <td>17</td>\n",
       "      <td>13</td>\n",
       "      <td>&lt;NA&gt;</td>\n",
       "      <td>297</td>\n",
       "      <td>23</td>\n",
       "      <td>58</td>\n",
       "      <td>desktop</td>\n",
       "      <td>South America</td>\n",
       "      <td>Peru</td>\n",
       "      <td>Home/Electronics/Electronics Accessories/</td>\n",
       "      <td>Grip Kit Cable Organizer</td>\n",
       "      <td>16990000</td>\n",
       "      <td>0</td>\n",
       "    </tr>\n",
       "    <tr>\n",
       "      <th>3</th>\n",
       "      <td>00000204243422487471480578901</td>\n",
       "      <td>30</td>\n",
       "      <td>11</td>\n",
       "      <td>2016</td>\n",
       "      <td>17</td>\n",
       "      <td>13</td>\n",
       "      <td>&lt;NA&gt;</td>\n",
       "      <td>297</td>\n",
       "      <td>23</td>\n",
       "      <td>58</td>\n",
       "      <td>desktop</td>\n",
       "      <td>South America</td>\n",
       "      <td>Peru</td>\n",
       "      <td>Home/Electronics/</td>\n",
       "      <td>Electronics Accessory Pouch</td>\n",
       "      <td>4990000</td>\n",
       "      <td>0</td>\n",
       "    </tr>\n",
       "    <tr>\n",
       "      <th>4</th>\n",
       "      <td>00000204243422487471480578901</td>\n",
       "      <td>30</td>\n",
       "      <td>11</td>\n",
       "      <td>2016</td>\n",
       "      <td>17</td>\n",
       "      <td>13</td>\n",
       "      <td>&lt;NA&gt;</td>\n",
       "      <td>297</td>\n",
       "      <td>23</td>\n",
       "      <td>56</td>\n",
       "      <td>desktop</td>\n",
       "      <td>South America</td>\n",
       "      <td>Peru</td>\n",
       "      <td>Home/Apparel/Men's/</td>\n",
       "      <td>Google Men's Watershed Full Zip Hoodie Grey</td>\n",
       "      <td>109990000</td>\n",
       "      <td>0</td>\n",
       "    </tr>\n",
       "  </tbody>\n",
       "</table>\n",
       "</div>"
      ],
      "text/plain": [
       "                      session_id day month  year  hits  page_views  bounces  \\\n",
       "0  00000204243422487471480578901  30    11  2016    17          13     <NA>   \n",
       "1  00000204243422487471480578901  30    11  2016    17          13     <NA>   \n",
       "2  00000204243422487471480578901  30    11  2016    17          13     <NA>   \n",
       "3  00000204243422487471480578901  30    11  2016    17          13     <NA>   \n",
       "4  00000204243422487471480578901  30    11  2016    17          13     <NA>   \n",
       "\n",
       "   time_on_site  hour  minute   device  sub_continent country  \\\n",
       "0           297    23      55  desktop  South America    Peru   \n",
       "1           297    23      58  desktop  South America    Peru   \n",
       "2           297    23      58  desktop  South America    Peru   \n",
       "3           297    23      58  desktop  South America    Peru   \n",
       "4           297    23      56  desktop  South America    Peru   \n",
       "\n",
       "                            product_category  \\\n",
       "0                 Home/Shop by Brand/Google/   \n",
       "1                          Home/Electronics/   \n",
       "2  Home/Electronics/Electronics Accessories/   \n",
       "3                          Home/Electronics/   \n",
       "4                        Home/Apparel/Men's/   \n",
       "\n",
       "                                        product_name  product_price  \\\n",
       "0  Google Men's 100% Cotton Short Sleeve Hero Tee...       16990000   \n",
       "1                    Google Device Holder Sticky Pad        4990000   \n",
       "2                           Grip Kit Cable Organizer       16990000   \n",
       "3                        Electronics Accessory Pouch        4990000   \n",
       "4        Google Men's Watershed Full Zip Hoodie Grey      109990000   \n",
       "\n",
       "   add_to_cart  \n",
       "0            0  \n",
       "1            0  \n",
       "2            0  \n",
       "3            0  \n",
       "4            0  "
      ]
     },
     "metadata": {},
     "output_type": "display_data"
    },
    {
     "name": "stdout",
     "output_type": "stream",
     "text": [
      "(1236880, 17)\n",
      "session_id                0\n",
      "day                       0\n",
      "month                     0\n",
      "year                      0\n",
      "hits                      0\n",
      "page_views               10\n",
      "bounces             1236880\n",
      "time_on_site            786\n",
      "hour                      0\n",
      "minute                    0\n",
      "device                    0\n",
      "sub_continent             0\n",
      "country                   0\n",
      "product_category      99205\n",
      "product_name          99205\n",
      "product_price         99205\n",
      "add_to_cart               0\n",
      "dtype: int64\n"
     ]
    }
   ],
   "source": [
    "display(hits_df.head(5))\n",
    "print(hits_df.shape)\n",
    "print(hits_df.isnull().sum())"
   ]
  },
  {
   "cell_type": "code",
   "execution_count": 10,
   "id": "ad6e1c66-28e3-4f58-b654-c85a82af80d4",
   "metadata": {},
   "outputs": [
    {
     "name": "stdout",
     "output_type": "stream",
     "text": [
      "session_id          object\n",
      "day                 object\n",
      "month               object\n",
      "year                object\n",
      "hits                 Int64\n",
      "page_views           Int64\n",
      "bounces              Int64\n",
      "time_on_site         Int64\n",
      "hour                 Int64\n",
      "minute               Int64\n",
      "device              object\n",
      "sub_continent       object\n",
      "country             object\n",
      "product_category    object\n",
      "product_name        object\n",
      "product_price        Int64\n",
      "add_to_cart          Int64\n",
      "dtype: object\n"
     ]
    }
   ],
   "source": [
    "print(hits_df.dtypes)"
   ]
  },
  {
   "cell_type": "code",
   "execution_count": 11,
   "id": "99749547-1b5e-4421-969f-ee23224319df",
   "metadata": {
    "tags": []
   },
   "outputs": [],
   "source": [
    "cleaned_hits_df = hits_df.copy()"
   ]
  },
  {
   "cell_type": "code",
   "execution_count": 14,
   "id": "3f31df5f-47fb-496e-b8c2-52814347bbe5",
   "metadata": {
    "tags": []
   },
   "outputs": [],
   "source": [
    "cleaned_hits_df = hits_df.drop(['session_id', 'bounces'], axis=1) # dropping session_id and bounces columns"
   ]
  },
  {
   "cell_type": "code",
   "execution_count": 15,
   "id": "a0c53b61-6699-4db8-a2f9-e2ded72e478c",
   "metadata": {
    "tags": []
   },
   "outputs": [
    {
     "data": {
      "text/html": [
       "<div>\n",
       "<style scoped>\n",
       "    .dataframe tbody tr th:only-of-type {\n",
       "        vertical-align: middle;\n",
       "    }\n",
       "\n",
       "    .dataframe tbody tr th {\n",
       "        vertical-align: top;\n",
       "    }\n",
       "\n",
       "    .dataframe thead th {\n",
       "        text-align: right;\n",
       "    }\n",
       "</style>\n",
       "<table border=\"1\" class=\"dataframe\">\n",
       "  <thead>\n",
       "    <tr style=\"text-align: right;\">\n",
       "      <th></th>\n",
       "      <th>day</th>\n",
       "      <th>month</th>\n",
       "      <th>year</th>\n",
       "      <th>hits</th>\n",
       "      <th>page_views</th>\n",
       "      <th>time_on_site</th>\n",
       "      <th>hour</th>\n",
       "      <th>minute</th>\n",
       "      <th>device</th>\n",
       "      <th>sub_continent</th>\n",
       "      <th>country</th>\n",
       "      <th>product_category</th>\n",
       "      <th>product_name</th>\n",
       "      <th>product_price</th>\n",
       "      <th>add_to_cart</th>\n",
       "    </tr>\n",
       "  </thead>\n",
       "  <tbody>\n",
       "    <tr>\n",
       "      <th>0</th>\n",
       "      <td>30</td>\n",
       "      <td>11</td>\n",
       "      <td>2016</td>\n",
       "      <td>17</td>\n",
       "      <td>13</td>\n",
       "      <td>297</td>\n",
       "      <td>23</td>\n",
       "      <td>55</td>\n",
       "      <td>desktop</td>\n",
       "      <td>South America</td>\n",
       "      <td>Peru</td>\n",
       "      <td>Home/Shop by Brand/Google/</td>\n",
       "      <td>Google Men's 100% Cotton Short Sleeve Hero Tee...</td>\n",
       "      <td>16990000</td>\n",
       "      <td>0</td>\n",
       "    </tr>\n",
       "    <tr>\n",
       "      <th>1</th>\n",
       "      <td>30</td>\n",
       "      <td>11</td>\n",
       "      <td>2016</td>\n",
       "      <td>17</td>\n",
       "      <td>13</td>\n",
       "      <td>297</td>\n",
       "      <td>23</td>\n",
       "      <td>58</td>\n",
       "      <td>desktop</td>\n",
       "      <td>South America</td>\n",
       "      <td>Peru</td>\n",
       "      <td>Home/Electronics/</td>\n",
       "      <td>Google Device Holder Sticky Pad</td>\n",
       "      <td>4990000</td>\n",
       "      <td>0</td>\n",
       "    </tr>\n",
       "    <tr>\n",
       "      <th>2</th>\n",
       "      <td>30</td>\n",
       "      <td>11</td>\n",
       "      <td>2016</td>\n",
       "      <td>17</td>\n",
       "      <td>13</td>\n",
       "      <td>297</td>\n",
       "      <td>23</td>\n",
       "      <td>58</td>\n",
       "      <td>desktop</td>\n",
       "      <td>South America</td>\n",
       "      <td>Peru</td>\n",
       "      <td>Home/Electronics/Electronics Accessories/</td>\n",
       "      <td>Grip Kit Cable Organizer</td>\n",
       "      <td>16990000</td>\n",
       "      <td>0</td>\n",
       "    </tr>\n",
       "    <tr>\n",
       "      <th>3</th>\n",
       "      <td>30</td>\n",
       "      <td>11</td>\n",
       "      <td>2016</td>\n",
       "      <td>17</td>\n",
       "      <td>13</td>\n",
       "      <td>297</td>\n",
       "      <td>23</td>\n",
       "      <td>58</td>\n",
       "      <td>desktop</td>\n",
       "      <td>South America</td>\n",
       "      <td>Peru</td>\n",
       "      <td>Home/Electronics/</td>\n",
       "      <td>Electronics Accessory Pouch</td>\n",
       "      <td>4990000</td>\n",
       "      <td>0</td>\n",
       "    </tr>\n",
       "    <tr>\n",
       "      <th>4</th>\n",
       "      <td>30</td>\n",
       "      <td>11</td>\n",
       "      <td>2016</td>\n",
       "      <td>17</td>\n",
       "      <td>13</td>\n",
       "      <td>297</td>\n",
       "      <td>23</td>\n",
       "      <td>56</td>\n",
       "      <td>desktop</td>\n",
       "      <td>South America</td>\n",
       "      <td>Peru</td>\n",
       "      <td>Home/Apparel/Men's/</td>\n",
       "      <td>Google Men's Watershed Full Zip Hoodie Grey</td>\n",
       "      <td>109990000</td>\n",
       "      <td>0</td>\n",
       "    </tr>\n",
       "  </tbody>\n",
       "</table>\n",
       "</div>"
      ],
      "text/plain": [
       "  day month  year  hits  page_views  time_on_site  hour  minute   device  \\\n",
       "0  30    11  2016    17          13           297    23      55  desktop   \n",
       "1  30    11  2016    17          13           297    23      58  desktop   \n",
       "2  30    11  2016    17          13           297    23      58  desktop   \n",
       "3  30    11  2016    17          13           297    23      58  desktop   \n",
       "4  30    11  2016    17          13           297    23      56  desktop   \n",
       "\n",
       "   sub_continent country                           product_category  \\\n",
       "0  South America    Peru                 Home/Shop by Brand/Google/   \n",
       "1  South America    Peru                          Home/Electronics/   \n",
       "2  South America    Peru  Home/Electronics/Electronics Accessories/   \n",
       "3  South America    Peru                          Home/Electronics/   \n",
       "4  South America    Peru                        Home/Apparel/Men's/   \n",
       "\n",
       "                                        product_name  product_price  \\\n",
       "0  Google Men's 100% Cotton Short Sleeve Hero Tee...       16990000   \n",
       "1                    Google Device Holder Sticky Pad        4990000   \n",
       "2                           Grip Kit Cable Organizer       16990000   \n",
       "3                        Electronics Accessory Pouch        4990000   \n",
       "4        Google Men's Watershed Full Zip Hoodie Grey      109990000   \n",
       "\n",
       "   add_to_cart  \n",
       "0            0  \n",
       "1            0  \n",
       "2            0  \n",
       "3            0  \n",
       "4            0  "
      ]
     },
     "metadata": {},
     "output_type": "display_data"
    }
   ],
   "source": [
    "display(cleaned_hits_df.head(5))"
   ]
  },
  {
   "cell_type": "code",
   "execution_count": 16,
   "id": "92923782-12c5-4202-92a5-383d5eff4b97",
   "metadata": {
    "tags": []
   },
   "outputs": [],
   "source": [
    "cleaned_hits_df['product_category'] = cleaned_hits_df['product_category'].str.strip('/') # remove '/' from product_category values"
   ]
  },
  {
   "cell_type": "code",
   "execution_count": 21,
   "id": "8cb64265-c008-488e-a1d1-92c29f90217d",
   "metadata": {
    "tags": []
   },
   "outputs": [
    {
     "name": "stdout",
     "output_type": "stream",
     "text": [
      "16\n",
      "567\n",
      "Home/Shop by Brand/YouTube\n",
      "YouTube Men's Short Sleeve Hero Tee Black\n",
      "27769128\n"
     ]
    }
   ],
   "source": [
    "# finding the average and most common values\n",
    "avg_page_views = round(cleaned_hits_df['page_views'].mean())\n",
    "avg_time_on_site = round(cleaned_hits_df['time_on_site'].mean())\n",
    "common_product_category = cleaned_hits_df['product_category'].value_counts().index[0]\n",
    "common_product_name = cleaned_hits_df['product_name'].value_counts().index[0]\n",
    "avg_product_price = round(cleaned_hits_df['product_price'].mean())\n",
    "\n",
    "print(avg_page_views)\n",
    "print(avg_time_on_site)\n",
    "print(common_product_category)\n",
    "print(common_product_name)\n",
    "print(avg_product_price)"
   ]
  },
  {
   "cell_type": "code",
   "execution_count": 23,
   "id": "3ca80ec0-a957-4e49-8ba2-801d84cb2ec2",
   "metadata": {
    "tags": []
   },
   "outputs": [],
   "source": [
    "# fill in null values\n",
    "cleaned_hits_df['page_views'] = cleaned_hits_df['page_views'].fillna(avg_page_views)\n",
    "cleaned_hits_df['time_on_site'] = cleaned_hits_df['time_on_site'].fillna(avg_time_on_site)\n",
    "cleaned_hits_df['product_category'] = cleaned_hits_df['product_category'].fillna(common_product_category)\n",
    "cleaned_hits_df['product_name'] = cleaned_hits_df['product_name'].fillna(common_product_name)\n",
    "cleaned_hits_df['product_price'] = cleaned_hits_df['product_price'].fillna(avg_product_price)"
   ]
  },
  {
   "cell_type": "code",
   "execution_count": 25,
   "id": "e4bdcad1-f471-4d61-87d4-8329ed969868",
   "metadata": {
    "tags": []
   },
   "outputs": [
    {
     "name": "stdout",
     "output_type": "stream",
     "text": [
      "day                 0\n",
      "month               0\n",
      "year                0\n",
      "hits                0\n",
      "page_views          0\n",
      "time_on_site        0\n",
      "hour                0\n",
      "minute              0\n",
      "device              0\n",
      "sub_continent       0\n",
      "country             0\n",
      "product_category    0\n",
      "product_name        0\n",
      "product_price       0\n",
      "add_to_cart         0\n",
      "dtype: int64\n"
     ]
    }
   ],
   "source": [
    "print(cleaned_hits_df.isnull().sum())"
   ]
  },
  {
   "cell_type": "code",
   "execution_count": 27,
   "id": "90dc8c01-1de6-409b-aa7e-c666307c035e",
   "metadata": {
    "tags": []
   },
   "outputs": [],
   "source": [
    "# convert values to integers\n",
    "cleaned_hits_df['day'] = pd.to_numeric(cleaned_hits_df['day'])\n",
    "cleaned_hits_df['month'] = pd.to_numeric(cleaned_hits_df['month'])\n",
    "cleaned_hits_df['year'] = pd.to_numeric(cleaned_hits_df['year'])\n",
    "cleaned_hits_df['product_price'] = round(cleaned_hits_df['product_price'] / (10 ** 6), 2) # revert the 10^6"
   ]
  },
  {
   "cell_type": "code",
   "execution_count": 30,
   "id": "f67fe6ba-7c93-43ea-b190-7616ecc45b4c",
   "metadata": {
    "tags": []
   },
   "outputs": [
    {
     "name": "stdout",
     "output_type": "stream",
     "text": [
      "day      int64\n",
      "month    int64\n",
      "year     int64\n",
      "dtype: object\n"
     ]
    }
   ],
   "source": [
    "print(cleaned_hits_df[['day', 'month', 'year']].dtypes)"
   ]
  },
  {
   "cell_type": "code",
   "execution_count": 31,
   "id": "d09e87d1-006b-4827-9373-e7ac538343bf",
   "metadata": {
    "tags": []
   },
   "outputs": [
    {
     "data": {
      "text/html": [
       "<div>\n",
       "<style scoped>\n",
       "    .dataframe tbody tr th:only-of-type {\n",
       "        vertical-align: middle;\n",
       "    }\n",
       "\n",
       "    .dataframe tbody tr th {\n",
       "        vertical-align: top;\n",
       "    }\n",
       "\n",
       "    .dataframe thead th {\n",
       "        text-align: right;\n",
       "    }\n",
       "</style>\n",
       "<table border=\"1\" class=\"dataframe\">\n",
       "  <thead>\n",
       "    <tr style=\"text-align: right;\">\n",
       "      <th></th>\n",
       "      <th>day</th>\n",
       "      <th>month</th>\n",
       "      <th>year</th>\n",
       "      <th>hits</th>\n",
       "      <th>page_views</th>\n",
       "      <th>time_on_site</th>\n",
       "      <th>hour</th>\n",
       "      <th>minute</th>\n",
       "      <th>device</th>\n",
       "      <th>sub_continent</th>\n",
       "      <th>country</th>\n",
       "      <th>product_category</th>\n",
       "      <th>product_name</th>\n",
       "      <th>product_price</th>\n",
       "      <th>add_to_cart</th>\n",
       "    </tr>\n",
       "  </thead>\n",
       "  <tbody>\n",
       "    <tr>\n",
       "      <th>0</th>\n",
       "      <td>30</td>\n",
       "      <td>11</td>\n",
       "      <td>2016</td>\n",
       "      <td>17</td>\n",
       "      <td>13</td>\n",
       "      <td>297</td>\n",
       "      <td>23</td>\n",
       "      <td>55</td>\n",
       "      <td>desktop</td>\n",
       "      <td>South America</td>\n",
       "      <td>Peru</td>\n",
       "      <td>Home/Shop by Brand/Google</td>\n",
       "      <td>Google Men's 100% Cotton Short Sleeve Hero Tee...</td>\n",
       "      <td>16.99</td>\n",
       "      <td>0</td>\n",
       "    </tr>\n",
       "    <tr>\n",
       "      <th>1</th>\n",
       "      <td>30</td>\n",
       "      <td>11</td>\n",
       "      <td>2016</td>\n",
       "      <td>17</td>\n",
       "      <td>13</td>\n",
       "      <td>297</td>\n",
       "      <td>23</td>\n",
       "      <td>58</td>\n",
       "      <td>desktop</td>\n",
       "      <td>South America</td>\n",
       "      <td>Peru</td>\n",
       "      <td>Home/Electronics</td>\n",
       "      <td>Google Device Holder Sticky Pad</td>\n",
       "      <td>4.99</td>\n",
       "      <td>0</td>\n",
       "    </tr>\n",
       "    <tr>\n",
       "      <th>2</th>\n",
       "      <td>30</td>\n",
       "      <td>11</td>\n",
       "      <td>2016</td>\n",
       "      <td>17</td>\n",
       "      <td>13</td>\n",
       "      <td>297</td>\n",
       "      <td>23</td>\n",
       "      <td>58</td>\n",
       "      <td>desktop</td>\n",
       "      <td>South America</td>\n",
       "      <td>Peru</td>\n",
       "      <td>Home/Electronics/Electronics Accessories</td>\n",
       "      <td>Grip Kit Cable Organizer</td>\n",
       "      <td>16.99</td>\n",
       "      <td>0</td>\n",
       "    </tr>\n",
       "    <tr>\n",
       "      <th>3</th>\n",
       "      <td>30</td>\n",
       "      <td>11</td>\n",
       "      <td>2016</td>\n",
       "      <td>17</td>\n",
       "      <td>13</td>\n",
       "      <td>297</td>\n",
       "      <td>23</td>\n",
       "      <td>58</td>\n",
       "      <td>desktop</td>\n",
       "      <td>South America</td>\n",
       "      <td>Peru</td>\n",
       "      <td>Home/Electronics</td>\n",
       "      <td>Electronics Accessory Pouch</td>\n",
       "      <td>4.99</td>\n",
       "      <td>0</td>\n",
       "    </tr>\n",
       "    <tr>\n",
       "      <th>4</th>\n",
       "      <td>30</td>\n",
       "      <td>11</td>\n",
       "      <td>2016</td>\n",
       "      <td>17</td>\n",
       "      <td>13</td>\n",
       "      <td>297</td>\n",
       "      <td>23</td>\n",
       "      <td>56</td>\n",
       "      <td>desktop</td>\n",
       "      <td>South America</td>\n",
       "      <td>Peru</td>\n",
       "      <td>Home/Apparel/Men's</td>\n",
       "      <td>Google Men's Watershed Full Zip Hoodie Grey</td>\n",
       "      <td>109.99</td>\n",
       "      <td>0</td>\n",
       "    </tr>\n",
       "  </tbody>\n",
       "</table>\n",
       "</div>"
      ],
      "text/plain": [
       "   day  month  year  hits  page_views  time_on_site  hour  minute   device  \\\n",
       "0   30     11  2016    17          13           297    23      55  desktop   \n",
       "1   30     11  2016    17          13           297    23      58  desktop   \n",
       "2   30     11  2016    17          13           297    23      58  desktop   \n",
       "3   30     11  2016    17          13           297    23      58  desktop   \n",
       "4   30     11  2016    17          13           297    23      56  desktop   \n",
       "\n",
       "   sub_continent country                          product_category  \\\n",
       "0  South America    Peru                 Home/Shop by Brand/Google   \n",
       "1  South America    Peru                          Home/Electronics   \n",
       "2  South America    Peru  Home/Electronics/Electronics Accessories   \n",
       "3  South America    Peru                          Home/Electronics   \n",
       "4  South America    Peru                        Home/Apparel/Men's   \n",
       "\n",
       "                                        product_name  product_price  \\\n",
       "0  Google Men's 100% Cotton Short Sleeve Hero Tee...          16.99   \n",
       "1                    Google Device Holder Sticky Pad           4.99   \n",
       "2                           Grip Kit Cable Organizer          16.99   \n",
       "3                        Electronics Accessory Pouch           4.99   \n",
       "4        Google Men's Watershed Full Zip Hoodie Grey         109.99   \n",
       "\n",
       "   add_to_cart  \n",
       "0            0  \n",
       "1            0  \n",
       "2            0  \n",
       "3            0  \n",
       "4            0  "
      ]
     },
     "metadata": {},
     "output_type": "display_data"
    }
   ],
   "source": [
    "display(cleaned_hits_df.head(5))"
   ]
  },
  {
   "cell_type": "code",
   "execution_count": 32,
   "id": "e245278b-2f7c-46dd-b2c8-67291f3b8c8e",
   "metadata": {
    "tags": []
   },
   "outputs": [],
   "source": [
    "eda_df = cleaned_hits_df.copy()"
   ]
  },
  {
   "cell_type": "code",
   "execution_count": 33,
   "id": "94547a11-5a7a-4ed9-ac84-c11f33352a43",
   "metadata": {
    "tags": []
   },
   "outputs": [
    {
     "name": "stdout",
     "output_type": "stream",
     "text": [
      "Stored 'eda_df' (DataFrame)\n"
     ]
    }
   ],
   "source": [
    "%store eda_df"
   ]
  }
 ],
 "metadata": {
  "environment": {
   "kernel": "conda-root-py",
   "name": "workbench-notebooks.m115",
   "type": "gcloud",
   "uri": "gcr.io/deeplearning-platform-release/workbench-notebooks:m115"
  },
  "kernelspec": {
   "display_name": "Python 3 (ipykernel) (Local)",
   "language": "python",
   "name": "conda-root-py"
  },
  "language_info": {
   "codemirror_mode": {
    "name": "ipython",
    "version": 3
   },
   "file_extension": ".py",
   "mimetype": "text/x-python",
   "name": "python",
   "nbconvert_exporter": "python",
   "pygments_lexer": "ipython3",
   "version": "3.10.13"
  }
 },
 "nbformat": 4,
 "nbformat_minor": 5
}

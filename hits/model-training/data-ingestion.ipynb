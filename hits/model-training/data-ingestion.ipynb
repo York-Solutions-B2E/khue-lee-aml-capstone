{
 "cells": [
  {
   "cell_type": "code",
   "execution_count": 1,
   "id": "2f857da6-5bf4-40b6-8d27-8fc2fe0c82d8",
   "metadata": {
    "tags": []
   },
   "outputs": [],
   "source": [
    "import pandas as pd\n",
    "from google.cloud import aiplatform as vertexai\n",
    "from pandas_gbq import to_gbq\n",
    "import seaborn as sns\n",
    "import matplotlib.pyplot as plt"
   ]
  },
  {
   "cell_type": "code",
   "execution_count": 2,
   "id": "376a4fd7-f102-45a4-ab4f-306dadcf68d3",
   "metadata": {
    "tags": []
   },
   "outputs": [],
   "source": [
    "PROJECT_ID = !(gcloud config get-value core/project)\n",
    "PROJECT_ID = PROJECT_ID[0]\n",
    "\n",
    "BQ_LOCATION = 'US'\n",
    "REGION = 'us-central1'"
   ]
  },
  {
   "cell_type": "code",
   "execution_count": 3,
   "id": "856a110e-eb0e-4116-8dc8-70498e39beb1",
   "metadata": {
    "tags": []
   },
   "outputs": [],
   "source": [
    "GCS_BUCKET = f\"khue-capstone-bucket\"\n",
    "BQ_DATASET = f\"{PROJECT_ID}:khue_capstone\""
   ]
  },
  {
   "cell_type": "code",
   "execution_count": 4,
   "id": "32f0d31e-5bd2-479d-b294-062675714ca6",
   "metadata": {
    "tags": []
   },
   "outputs": [],
   "source": [
    "vertexai.init(project=PROJECT_ID, location=REGION, staging_bucket=f\"gs://{GCS_BUCKET}\")"
   ]
  },
  {
   "cell_type": "code",
   "execution_count": 40,
   "id": "5f58867d-ef7f-49c8-a01e-91a2f448c49e",
   "metadata": {
    "tags": []
   },
   "outputs": [
    {
     "data": {
      "application/vnd.jupyter.widget-view+json": {
       "model_id": "6dfc68e9a3ca4ae2bc898ce566d6606f",
       "version_major": 2,
       "version_minor": 0
      },
      "text/plain": [
       "Query is running:   0%|          |"
      ]
     },
     "metadata": {},
     "output_type": "display_data"
    },
    {
     "data": {
      "application/vnd.jupyter.widget-view+json": {
       "model_id": "9f872120f3df4f23b4aa107c9cd4031e",
       "version_major": 2,
       "version_minor": 0
      },
      "text/plain": [
       "Downloading:   0%|          |"
      ]
     },
     "metadata": {},
     "output_type": "display_data"
    }
   ],
   "source": [
    "%%bigquery hits_df --project $PROJECT_ID\n",
    "SELECT DISTINCT\n",
    "  CONCAT(fullVisitorId, visitId) AS session_id,\n",
    "  SUBSTR(date, 7, 2) AS day,\n",
    "  SUBSTR(date, 5, 2) AS month,\n",
    "  SUBSTR(date, 1, 4) AS year,\n",
    "  totals.hits,\n",
    "  totals.pageviews AS page_views,\n",
    "  totals.bounces,\n",
    "  totals.timeOnSite AS time_on_site,\n",
    "  hour,\n",
    "  minute,\n",
    "  device.deviceCategory AS device,\n",
    "  geoNetwork.subContinent AS sub_continent,\n",
    "  geoNetwork.country,\n",
    "  product_category,\n",
    "  product_name,\n",
    "  product_price,\n",
    "  add_to_cart,\n",
    "FROM\n",
    "  `bigquery-public-data.google_analytics_sample.ga_sessions_*`\n",
    "LEFT JOIN (\n",
    "  SELECT\n",
    "    CONCAT(fullVisitorId, visitId) AS session_id,\n",
    "    MAX(CASE hit.eCommerceAction.action_type = '3' WHEN TRUE THEN 1 ELSE 0 END) AS add_to_cart,\n",
    "    hit.hour AS hour,\n",
    "    hit.minute AS minute,\n",
    "    product.v2ProductName AS product_name,\n",
    "    product.v2ProductCategory AS product_category,\n",
    "    CAST(AVG(product.localProductPrice) AS INT64) AS product_price\n",
    "  FROM\n",
    "    `bigquery-public-data.google_analytics_sample.ga_sessions_*`,\n",
    "    UNNEST(hits) AS hit\n",
    "    LEFT JOIN UNNEST(hit.product) AS product\n",
    "  WHERE\n",
    "    _TABLE_SUFFIX BETWEEN '20161101' AND '20161130'\n",
    "  GROUP BY\n",
    "    session_id,\n",
    "    hit.hour,\n",
    "    hit.minute,\n",
    "    product_name,\n",
    "    product_category\n",
    ") AS target_table ON CONCAT(fullVisitorId, visitId) = target_table.session_id\n",
    "WHERE\n",
    "  (_TABLE_SUFFIX BETWEEN '20161101' AND '20161130')\n",
    "  AND totals.bounces IS NULL\n",
    "ORDER BY session_id"
   ]
  },
  {
   "cell_type": "code",
   "execution_count": 41,
   "id": "641593b9-0ca4-4204-a746-c3b9a715b469",
   "metadata": {
    "tags": []
   },
   "outputs": [
    {
     "data": {
      "text/html": [
       "<div>\n",
       "<style scoped>\n",
       "    .dataframe tbody tr th:only-of-type {\n",
       "        vertical-align: middle;\n",
       "    }\n",
       "\n",
       "    .dataframe tbody tr th {\n",
       "        vertical-align: top;\n",
       "    }\n",
       "\n",
       "    .dataframe thead th {\n",
       "        text-align: right;\n",
       "    }\n",
       "</style>\n",
       "<table border=\"1\" class=\"dataframe\">\n",
       "  <thead>\n",
       "    <tr style=\"text-align: right;\">\n",
       "      <th></th>\n",
       "      <th>session_id</th>\n",
       "      <th>day</th>\n",
       "      <th>month</th>\n",
       "      <th>year</th>\n",
       "      <th>hits</th>\n",
       "      <th>page_views</th>\n",
       "      <th>bounces</th>\n",
       "      <th>time_on_site</th>\n",
       "      <th>hour</th>\n",
       "      <th>minute</th>\n",
       "      <th>device</th>\n",
       "      <th>sub_continent</th>\n",
       "      <th>country</th>\n",
       "      <th>product_category</th>\n",
       "      <th>product_name</th>\n",
       "      <th>product_price</th>\n",
       "      <th>add_to_cart</th>\n",
       "    </tr>\n",
       "  </thead>\n",
       "  <tbody>\n",
       "    <tr>\n",
       "      <th>0</th>\n",
       "      <td>00000204243422487471480578901</td>\n",
       "      <td>30</td>\n",
       "      <td>11</td>\n",
       "      <td>2016</td>\n",
       "      <td>17</td>\n",
       "      <td>13</td>\n",
       "      <td>&lt;NA&gt;</td>\n",
       "      <td>297</td>\n",
       "      <td>23</td>\n",
       "      <td>56</td>\n",
       "      <td>desktop</td>\n",
       "      <td>South America</td>\n",
       "      <td>Peru</td>\n",
       "      <td>Home/Apparel/Men's/</td>\n",
       "      <td>Google Men's 100% Cotton Short Sleeve Hero Tee...</td>\n",
       "      <td>16990000</td>\n",
       "      <td>0</td>\n",
       "    </tr>\n",
       "    <tr>\n",
       "      <th>1</th>\n",
       "      <td>00000204243422487471480578901</td>\n",
       "      <td>30</td>\n",
       "      <td>11</td>\n",
       "      <td>2016</td>\n",
       "      <td>17</td>\n",
       "      <td>13</td>\n",
       "      <td>&lt;NA&gt;</td>\n",
       "      <td>297</td>\n",
       "      <td>23</td>\n",
       "      <td>55</td>\n",
       "      <td>desktop</td>\n",
       "      <td>South America</td>\n",
       "      <td>Peru</td>\n",
       "      <td>Home/Bags/Backpacks/</td>\n",
       "      <td>Waterproof Backpack</td>\n",
       "      <td>99990000</td>\n",
       "      <td>0</td>\n",
       "    </tr>\n",
       "    <tr>\n",
       "      <th>2</th>\n",
       "      <td>00000204243422487471480578901</td>\n",
       "      <td>30</td>\n",
       "      <td>11</td>\n",
       "      <td>2016</td>\n",
       "      <td>17</td>\n",
       "      <td>13</td>\n",
       "      <td>&lt;NA&gt;</td>\n",
       "      <td>297</td>\n",
       "      <td>23</td>\n",
       "      <td>58</td>\n",
       "      <td>desktop</td>\n",
       "      <td>South America</td>\n",
       "      <td>Peru</td>\n",
       "      <td>Home/Electronics/</td>\n",
       "      <td>Aluminum Handy Emergency Flashlight</td>\n",
       "      <td>16990000</td>\n",
       "      <td>0</td>\n",
       "    </tr>\n",
       "    <tr>\n",
       "      <th>3</th>\n",
       "      <td>00000204243422487471480578901</td>\n",
       "      <td>30</td>\n",
       "      <td>11</td>\n",
       "      <td>2016</td>\n",
       "      <td>17</td>\n",
       "      <td>13</td>\n",
       "      <td>&lt;NA&gt;</td>\n",
       "      <td>297</td>\n",
       "      <td>23</td>\n",
       "      <td>55</td>\n",
       "      <td>desktop</td>\n",
       "      <td>South America</td>\n",
       "      <td>Peru</td>\n",
       "      <td>Home/Bags/Backpacks/</td>\n",
       "      <td>Google Rucksack</td>\n",
       "      <td>69990000</td>\n",
       "      <td>0</td>\n",
       "    </tr>\n",
       "    <tr>\n",
       "      <th>4</th>\n",
       "      <td>00000204243422487471480578901</td>\n",
       "      <td>30</td>\n",
       "      <td>11</td>\n",
       "      <td>2016</td>\n",
       "      <td>17</td>\n",
       "      <td>13</td>\n",
       "      <td>&lt;NA&gt;</td>\n",
       "      <td>297</td>\n",
       "      <td>23</td>\n",
       "      <td>56</td>\n",
       "      <td>desktop</td>\n",
       "      <td>South America</td>\n",
       "      <td>Peru</td>\n",
       "      <td>Home/Apparel/Men's/</td>\n",
       "      <td>Google Men's Short Sleeve Hero Tee Heather</td>\n",
       "      <td>18990000</td>\n",
       "      <td>0</td>\n",
       "    </tr>\n",
       "  </tbody>\n",
       "</table>\n",
       "</div>"
      ],
      "text/plain": [
       "                      session_id day month  year  hits  page_views  bounces  \\\n",
       "0  00000204243422487471480578901  30    11  2016    17          13     <NA>   \n",
       "1  00000204243422487471480578901  30    11  2016    17          13     <NA>   \n",
       "2  00000204243422487471480578901  30    11  2016    17          13     <NA>   \n",
       "3  00000204243422487471480578901  30    11  2016    17          13     <NA>   \n",
       "4  00000204243422487471480578901  30    11  2016    17          13     <NA>   \n",
       "\n",
       "   time_on_site  hour  minute   device  sub_continent country  \\\n",
       "0           297    23      56  desktop  South America    Peru   \n",
       "1           297    23      55  desktop  South America    Peru   \n",
       "2           297    23      58  desktop  South America    Peru   \n",
       "3           297    23      55  desktop  South America    Peru   \n",
       "4           297    23      56  desktop  South America    Peru   \n",
       "\n",
       "       product_category                                       product_name  \\\n",
       "0   Home/Apparel/Men's/  Google Men's 100% Cotton Short Sleeve Hero Tee...   \n",
       "1  Home/Bags/Backpacks/                                Waterproof Backpack   \n",
       "2     Home/Electronics/                Aluminum Handy Emergency Flashlight   \n",
       "3  Home/Bags/Backpacks/                                    Google Rucksack   \n",
       "4   Home/Apparel/Men's/         Google Men's Short Sleeve Hero Tee Heather   \n",
       "\n",
       "   product_price  add_to_cart  \n",
       "0       16990000            0  \n",
       "1       99990000            0  \n",
       "2       16990000            0  \n",
       "3       69990000            0  \n",
       "4       18990000            0  "
      ]
     },
     "metadata": {},
     "output_type": "display_data"
    },
    {
     "name": "stdout",
     "output_type": "stream",
     "text": [
      "(1236880, 17)\n",
      "session_id                0\n",
      "day                       0\n",
      "month                     0\n",
      "year                      0\n",
      "hits                      0\n",
      "page_views               10\n",
      "bounces             1236880\n",
      "time_on_site            786\n",
      "hour                      0\n",
      "minute                    0\n",
      "device                    0\n",
      "sub_continent             0\n",
      "country                   0\n",
      "product_category      99205\n",
      "product_name          99205\n",
      "product_price         99205\n",
      "add_to_cart               0\n",
      "dtype: int64\n"
     ]
    }
   ],
   "source": [
    "display(hits_df.head(5))\n",
    "print(hits_df.shape)\n",
    "print(hits_df.isnull().sum())"
   ]
  },
  {
   "cell_type": "code",
   "execution_count": 42,
   "id": "ad6e1c66-28e3-4f58-b654-c85a82af80d4",
   "metadata": {},
   "outputs": [
    {
     "name": "stdout",
     "output_type": "stream",
     "text": [
      "session_id          object\n",
      "day                 object\n",
      "month               object\n",
      "year                object\n",
      "hits                 Int64\n",
      "page_views           Int64\n",
      "bounces              Int64\n",
      "time_on_site         Int64\n",
      "hour                 Int64\n",
      "minute               Int64\n",
      "device              object\n",
      "sub_continent       object\n",
      "country             object\n",
      "product_category    object\n",
      "product_name        object\n",
      "product_price        Int64\n",
      "add_to_cart          Int64\n",
      "dtype: object\n"
     ]
    }
   ],
   "source": [
    "print(hits_df.dtypes)"
   ]
  },
  {
   "cell_type": "code",
   "execution_count": 54,
   "id": "99749547-1b5e-4421-969f-ee23224319df",
   "metadata": {
    "tags": []
   },
   "outputs": [],
   "source": [
    "cleaned_hits_df = hits_df.copy()"
   ]
  },
  {
   "cell_type": "code",
   "execution_count": 55,
   "id": "3f31df5f-47fb-496e-b8c2-52814347bbe5",
   "metadata": {
    "tags": []
   },
   "outputs": [],
   "source": [
    "cleaned_hits_df = cleaned_hits_df.drop(['session_id', 'bounces'], axis=1) # dropping session_id and bounces columns"
   ]
  },
  {
   "cell_type": "code",
   "execution_count": 56,
   "id": "d68393b0-a53d-4ecb-86fd-17e470452417",
   "metadata": {
    "tags": []
   },
   "outputs": [],
   "source": [
    "cleaned_hits_df = cleaned_hits_df.dropna()"
   ]
  },
  {
   "cell_type": "code",
   "execution_count": 57,
   "id": "efb6c96c-fc7a-4a27-8464-638a27788a21",
   "metadata": {
    "tags": []
   },
   "outputs": [
    {
     "name": "stdout",
     "output_type": "stream",
     "text": [
      "(1136937, 15)\n",
      "day                 0\n",
      "month               0\n",
      "year                0\n",
      "hits                0\n",
      "page_views          0\n",
      "time_on_site        0\n",
      "hour                0\n",
      "minute              0\n",
      "device              0\n",
      "sub_continent       0\n",
      "country             0\n",
      "product_category    0\n",
      "product_name        0\n",
      "product_price       0\n",
      "add_to_cart         0\n",
      "dtype: int64\n"
     ]
    }
   ],
   "source": [
    "print(cleaned_hits_df.shape)\n",
    "print(cleaned_hits_df.isnull().sum())"
   ]
  },
  {
   "cell_type": "code",
   "execution_count": 47,
   "id": "a0c53b61-6699-4db8-a2f9-e2ded72e478c",
   "metadata": {
    "tags": []
   },
   "outputs": [
    {
     "data": {
      "text/html": [
       "<div>\n",
       "<style scoped>\n",
       "    .dataframe tbody tr th:only-of-type {\n",
       "        vertical-align: middle;\n",
       "    }\n",
       "\n",
       "    .dataframe tbody tr th {\n",
       "        vertical-align: top;\n",
       "    }\n",
       "\n",
       "    .dataframe thead th {\n",
       "        text-align: right;\n",
       "    }\n",
       "</style>\n",
       "<table border=\"1\" class=\"dataframe\">\n",
       "  <thead>\n",
       "    <tr style=\"text-align: right;\">\n",
       "      <th></th>\n",
       "      <th>day</th>\n",
       "      <th>month</th>\n",
       "      <th>year</th>\n",
       "      <th>hits</th>\n",
       "      <th>page_views</th>\n",
       "      <th>time_on_site</th>\n",
       "      <th>hour</th>\n",
       "      <th>minute</th>\n",
       "      <th>device</th>\n",
       "      <th>sub_continent</th>\n",
       "      <th>country</th>\n",
       "      <th>product_category</th>\n",
       "      <th>product_name</th>\n",
       "      <th>product_price</th>\n",
       "      <th>add_to_cart</th>\n",
       "    </tr>\n",
       "  </thead>\n",
       "  <tbody>\n",
       "    <tr>\n",
       "      <th>0</th>\n",
       "      <td>30</td>\n",
       "      <td>11</td>\n",
       "      <td>2016</td>\n",
       "      <td>17</td>\n",
       "      <td>13</td>\n",
       "      <td>297</td>\n",
       "      <td>23</td>\n",
       "      <td>56</td>\n",
       "      <td>desktop</td>\n",
       "      <td>South America</td>\n",
       "      <td>Peru</td>\n",
       "      <td>Home/Apparel/Men's/</td>\n",
       "      <td>Google Men's 100% Cotton Short Sleeve Hero Tee...</td>\n",
       "      <td>16990000</td>\n",
       "      <td>0</td>\n",
       "    </tr>\n",
       "    <tr>\n",
       "      <th>1</th>\n",
       "      <td>30</td>\n",
       "      <td>11</td>\n",
       "      <td>2016</td>\n",
       "      <td>17</td>\n",
       "      <td>13</td>\n",
       "      <td>297</td>\n",
       "      <td>23</td>\n",
       "      <td>55</td>\n",
       "      <td>desktop</td>\n",
       "      <td>South America</td>\n",
       "      <td>Peru</td>\n",
       "      <td>Home/Bags/Backpacks/</td>\n",
       "      <td>Waterproof Backpack</td>\n",
       "      <td>99990000</td>\n",
       "      <td>0</td>\n",
       "    </tr>\n",
       "    <tr>\n",
       "      <th>2</th>\n",
       "      <td>30</td>\n",
       "      <td>11</td>\n",
       "      <td>2016</td>\n",
       "      <td>17</td>\n",
       "      <td>13</td>\n",
       "      <td>297</td>\n",
       "      <td>23</td>\n",
       "      <td>58</td>\n",
       "      <td>desktop</td>\n",
       "      <td>South America</td>\n",
       "      <td>Peru</td>\n",
       "      <td>Home/Electronics/</td>\n",
       "      <td>Aluminum Handy Emergency Flashlight</td>\n",
       "      <td>16990000</td>\n",
       "      <td>0</td>\n",
       "    </tr>\n",
       "    <tr>\n",
       "      <th>3</th>\n",
       "      <td>30</td>\n",
       "      <td>11</td>\n",
       "      <td>2016</td>\n",
       "      <td>17</td>\n",
       "      <td>13</td>\n",
       "      <td>297</td>\n",
       "      <td>23</td>\n",
       "      <td>55</td>\n",
       "      <td>desktop</td>\n",
       "      <td>South America</td>\n",
       "      <td>Peru</td>\n",
       "      <td>Home/Bags/Backpacks/</td>\n",
       "      <td>Google Rucksack</td>\n",
       "      <td>69990000</td>\n",
       "      <td>0</td>\n",
       "    </tr>\n",
       "    <tr>\n",
       "      <th>4</th>\n",
       "      <td>30</td>\n",
       "      <td>11</td>\n",
       "      <td>2016</td>\n",
       "      <td>17</td>\n",
       "      <td>13</td>\n",
       "      <td>297</td>\n",
       "      <td>23</td>\n",
       "      <td>56</td>\n",
       "      <td>desktop</td>\n",
       "      <td>South America</td>\n",
       "      <td>Peru</td>\n",
       "      <td>Home/Apparel/Men's/</td>\n",
       "      <td>Google Men's Short Sleeve Hero Tee Heather</td>\n",
       "      <td>18990000</td>\n",
       "      <td>0</td>\n",
       "    </tr>\n",
       "  </tbody>\n",
       "</table>\n",
       "</div>"
      ],
      "text/plain": [
       "  day month  year  hits  page_views  time_on_site  hour  minute   device  \\\n",
       "0  30    11  2016    17          13           297    23      56  desktop   \n",
       "1  30    11  2016    17          13           297    23      55  desktop   \n",
       "2  30    11  2016    17          13           297    23      58  desktop   \n",
       "3  30    11  2016    17          13           297    23      55  desktop   \n",
       "4  30    11  2016    17          13           297    23      56  desktop   \n",
       "\n",
       "   sub_continent country      product_category  \\\n",
       "0  South America    Peru   Home/Apparel/Men's/   \n",
       "1  South America    Peru  Home/Bags/Backpacks/   \n",
       "2  South America    Peru     Home/Electronics/   \n",
       "3  South America    Peru  Home/Bags/Backpacks/   \n",
       "4  South America    Peru   Home/Apparel/Men's/   \n",
       "\n",
       "                                        product_name  product_price  \\\n",
       "0  Google Men's 100% Cotton Short Sleeve Hero Tee...       16990000   \n",
       "1                                Waterproof Backpack       99990000   \n",
       "2                Aluminum Handy Emergency Flashlight       16990000   \n",
       "3                                    Google Rucksack       69990000   \n",
       "4         Google Men's Short Sleeve Hero Tee Heather       18990000   \n",
       "\n",
       "   add_to_cart  \n",
       "0            0  \n",
       "1            0  \n",
       "2            0  \n",
       "3            0  \n",
       "4            0  "
      ]
     },
     "metadata": {},
     "output_type": "display_data"
    }
   ],
   "source": [
    "display(cleaned_hits_df.head(5))"
   ]
  },
  {
   "cell_type": "code",
   "execution_count": 48,
   "id": "92923782-12c5-4202-92a5-383d5eff4b97",
   "metadata": {
    "tags": []
   },
   "outputs": [],
   "source": [
    "cleaned_hits_df['product_category'] = cleaned_hits_df['product_category'].str.strip('/') # remove '/' from product_category values"
   ]
  },
  {
   "cell_type": "code",
   "execution_count": 49,
   "id": "90dc8c01-1de6-409b-aa7e-c666307c035e",
   "metadata": {
    "tags": []
   },
   "outputs": [],
   "source": [
    "# convert values to integers\n",
    "cleaned_hits_df['day'] = pd.to_numeric(cleaned_hits_df['day'])\n",
    "cleaned_hits_df['month'] = pd.to_numeric(cleaned_hits_df['month'])\n",
    "cleaned_hits_df['year'] = pd.to_numeric(cleaned_hits_df['year'])\n",
    "cleaned_hits_df['product_price'] = round(cleaned_hits_df['product_price'] / (10 ** 6), 2) # revert the 10^6"
   ]
  },
  {
   "cell_type": "code",
   "execution_count": 50,
   "id": "f67fe6ba-7c93-43ea-b190-7616ecc45b4c",
   "metadata": {
    "tags": []
   },
   "outputs": [
    {
     "name": "stdout",
     "output_type": "stream",
     "text": [
      "day      int64\n",
      "month    int64\n",
      "year     int64\n",
      "dtype: object\n"
     ]
    }
   ],
   "source": [
    "print(cleaned_hits_df[['day', 'month', 'year']].dtypes)"
   ]
  },
  {
   "cell_type": "code",
   "execution_count": 51,
   "id": "d09e87d1-006b-4827-9373-e7ac538343bf",
   "metadata": {
    "tags": []
   },
   "outputs": [
    {
     "data": {
      "text/html": [
       "<div>\n",
       "<style scoped>\n",
       "    .dataframe tbody tr th:only-of-type {\n",
       "        vertical-align: middle;\n",
       "    }\n",
       "\n",
       "    .dataframe tbody tr th {\n",
       "        vertical-align: top;\n",
       "    }\n",
       "\n",
       "    .dataframe thead th {\n",
       "        text-align: right;\n",
       "    }\n",
       "</style>\n",
       "<table border=\"1\" class=\"dataframe\">\n",
       "  <thead>\n",
       "    <tr style=\"text-align: right;\">\n",
       "      <th></th>\n",
       "      <th>day</th>\n",
       "      <th>month</th>\n",
       "      <th>year</th>\n",
       "      <th>hits</th>\n",
       "      <th>page_views</th>\n",
       "      <th>time_on_site</th>\n",
       "      <th>hour</th>\n",
       "      <th>minute</th>\n",
       "      <th>device</th>\n",
       "      <th>sub_continent</th>\n",
       "      <th>country</th>\n",
       "      <th>product_category</th>\n",
       "      <th>product_name</th>\n",
       "      <th>product_price</th>\n",
       "      <th>add_to_cart</th>\n",
       "    </tr>\n",
       "  </thead>\n",
       "  <tbody>\n",
       "    <tr>\n",
       "      <th>0</th>\n",
       "      <td>30</td>\n",
       "      <td>11</td>\n",
       "      <td>2016</td>\n",
       "      <td>17</td>\n",
       "      <td>13</td>\n",
       "      <td>297</td>\n",
       "      <td>23</td>\n",
       "      <td>56</td>\n",
       "      <td>desktop</td>\n",
       "      <td>South America</td>\n",
       "      <td>Peru</td>\n",
       "      <td>Home/Apparel/Men's</td>\n",
       "      <td>Google Men's 100% Cotton Short Sleeve Hero Tee...</td>\n",
       "      <td>16.99</td>\n",
       "      <td>0</td>\n",
       "    </tr>\n",
       "    <tr>\n",
       "      <th>1</th>\n",
       "      <td>30</td>\n",
       "      <td>11</td>\n",
       "      <td>2016</td>\n",
       "      <td>17</td>\n",
       "      <td>13</td>\n",
       "      <td>297</td>\n",
       "      <td>23</td>\n",
       "      <td>55</td>\n",
       "      <td>desktop</td>\n",
       "      <td>South America</td>\n",
       "      <td>Peru</td>\n",
       "      <td>Home/Bags/Backpacks</td>\n",
       "      <td>Waterproof Backpack</td>\n",
       "      <td>99.99</td>\n",
       "      <td>0</td>\n",
       "    </tr>\n",
       "    <tr>\n",
       "      <th>2</th>\n",
       "      <td>30</td>\n",
       "      <td>11</td>\n",
       "      <td>2016</td>\n",
       "      <td>17</td>\n",
       "      <td>13</td>\n",
       "      <td>297</td>\n",
       "      <td>23</td>\n",
       "      <td>58</td>\n",
       "      <td>desktop</td>\n",
       "      <td>South America</td>\n",
       "      <td>Peru</td>\n",
       "      <td>Home/Electronics</td>\n",
       "      <td>Aluminum Handy Emergency Flashlight</td>\n",
       "      <td>16.99</td>\n",
       "      <td>0</td>\n",
       "    </tr>\n",
       "    <tr>\n",
       "      <th>3</th>\n",
       "      <td>30</td>\n",
       "      <td>11</td>\n",
       "      <td>2016</td>\n",
       "      <td>17</td>\n",
       "      <td>13</td>\n",
       "      <td>297</td>\n",
       "      <td>23</td>\n",
       "      <td>55</td>\n",
       "      <td>desktop</td>\n",
       "      <td>South America</td>\n",
       "      <td>Peru</td>\n",
       "      <td>Home/Bags/Backpacks</td>\n",
       "      <td>Google Rucksack</td>\n",
       "      <td>69.99</td>\n",
       "      <td>0</td>\n",
       "    </tr>\n",
       "    <tr>\n",
       "      <th>4</th>\n",
       "      <td>30</td>\n",
       "      <td>11</td>\n",
       "      <td>2016</td>\n",
       "      <td>17</td>\n",
       "      <td>13</td>\n",
       "      <td>297</td>\n",
       "      <td>23</td>\n",
       "      <td>56</td>\n",
       "      <td>desktop</td>\n",
       "      <td>South America</td>\n",
       "      <td>Peru</td>\n",
       "      <td>Home/Apparel/Men's</td>\n",
       "      <td>Google Men's Short Sleeve Hero Tee Heather</td>\n",
       "      <td>18.99</td>\n",
       "      <td>0</td>\n",
       "    </tr>\n",
       "  </tbody>\n",
       "</table>\n",
       "</div>"
      ],
      "text/plain": [
       "   day  month  year  hits  page_views  time_on_site  hour  minute   device  \\\n",
       "0   30     11  2016    17          13           297    23      56  desktop   \n",
       "1   30     11  2016    17          13           297    23      55  desktop   \n",
       "2   30     11  2016    17          13           297    23      58  desktop   \n",
       "3   30     11  2016    17          13           297    23      55  desktop   \n",
       "4   30     11  2016    17          13           297    23      56  desktop   \n",
       "\n",
       "   sub_continent country     product_category  \\\n",
       "0  South America    Peru   Home/Apparel/Men's   \n",
       "1  South America    Peru  Home/Bags/Backpacks   \n",
       "2  South America    Peru     Home/Electronics   \n",
       "3  South America    Peru  Home/Bags/Backpacks   \n",
       "4  South America    Peru   Home/Apparel/Men's   \n",
       "\n",
       "                                        product_name  product_price  \\\n",
       "0  Google Men's 100% Cotton Short Sleeve Hero Tee...          16.99   \n",
       "1                                Waterproof Backpack          99.99   \n",
       "2                Aluminum Handy Emergency Flashlight          16.99   \n",
       "3                                    Google Rucksack          69.99   \n",
       "4         Google Men's Short Sleeve Hero Tee Heather          18.99   \n",
       "\n",
       "   add_to_cart  \n",
       "0            0  \n",
       "1            0  \n",
       "2            0  \n",
       "3            0  \n",
       "4            0  "
      ]
     },
     "metadata": {},
     "output_type": "display_data"
    }
   ],
   "source": [
    "display(cleaned_hits_df.head(5))"
   ]
  },
  {
   "cell_type": "code",
   "execution_count": 52,
   "id": "e245278b-2f7c-46dd-b2c8-67291f3b8c8e",
   "metadata": {
    "tags": []
   },
   "outputs": [],
   "source": [
    "cleaned_df = cleaned_hits_df.copy()"
   ]
  },
  {
   "cell_type": "code",
   "execution_count": 53,
   "id": "94547a11-5a7a-4ed9-ac84-c11f33352a43",
   "metadata": {
    "tags": []
   },
   "outputs": [
    {
     "name": "stdout",
     "output_type": "stream",
     "text": [
      "Stored 'cleaned_df' (DataFrame)\n"
     ]
    }
   ],
   "source": [
    "%store cleaned_df"
   ]
  },
  {
   "cell_type": "code",
   "execution_count": 51,
   "id": "9100a6f1-dc92-4e2e-98af-fe454d3499b6",
   "metadata": {},
   "outputs": [
    {
     "name": "stderr",
     "output_type": "stream",
     "text": [
      "100%|██████████| 1/1 [00:00<00:00, 8981.38it/s]\n"
     ]
    }
   ],
   "source": [
    "destination_table = 'york-bb-cohort.khue_capstone.hits_data'\n",
    "to_gbq(cleaned_df, destination_table, project_id='york-bb-cohort', if_exists='replace')"
   ]
  },
  {
   "cell_type": "code",
   "execution_count": 5,
   "id": "111e2f8b-cd1d-4e4c-b19c-49b538a37c08",
   "metadata": {
    "tags": []
   },
   "outputs": [
    {
     "data": {
      "application/vnd.jupyter.widget-view+json": {
       "model_id": "0d6b89f8331a4d70bcb11aa87bb903da",
       "version_major": 2,
       "version_minor": 0
      },
      "text/plain": [
       "Query is running:   0%|          |"
      ]
     },
     "metadata": {},
     "output_type": "display_data"
    },
    {
     "data": {
      "application/vnd.jupyter.widget-view+json": {
       "model_id": "5185aaf6e6f1476b87d06eb7a66170ca",
       "version_major": 2,
       "version_minor": 0
      },
      "text/plain": [
       "Downloading:   0%|          |"
      ]
     },
     "metadata": {},
     "output_type": "display_data"
    }
   ],
   "source": [
    "%%bigquery hits_df --project $PROJECT_ID\n",
    "SELECT * FROM khue_capstone.hits_data;"
   ]
  },
  {
   "cell_type": "code",
   "execution_count": 7,
   "id": "3c1f24a9-a4e9-4743-8652-95e4b2420b58",
   "metadata": {
    "tags": []
   },
   "outputs": [
    {
     "name": "stdout",
     "output_type": "stream",
     "text": [
      "(1136937, 15)\n"
     ]
    }
   ],
   "source": [
    "print(hits_df.shape)"
   ]
  },
  {
   "cell_type": "code",
   "execution_count": null,
   "id": "658b12c3-019f-4e47-9da7-c5051e599bf7",
   "metadata": {},
   "outputs": [],
   "source": []
  }
 ],
 "metadata": {
  "environment": {
   "kernel": "conda-root-py",
   "name": "workbench-notebooks.m115",
   "type": "gcloud",
   "uri": "gcr.io/deeplearning-platform-release/workbench-notebooks:m115"
  },
  "kernelspec": {
   "display_name": "Python 3 (ipykernel) (Local)",
   "language": "python",
   "name": "conda-root-py"
  },
  "language_info": {
   "codemirror_mode": {
    "name": "ipython",
    "version": 3
   },
   "file_extension": ".py",
   "mimetype": "text/x-python",
   "name": "python",
   "nbconvert_exporter": "python",
   "pygments_lexer": "ipython3",
   "version": "3.10.13"
  }
 },
 "nbformat": 4,
 "nbformat_minor": 5
}

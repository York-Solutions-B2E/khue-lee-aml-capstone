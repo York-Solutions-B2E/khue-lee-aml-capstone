{
 "cells": [
  {
   "cell_type": "code",
   "execution_count": 1,
   "id": "4ba51285-0519-438a-a46f-b12aba1f60de",
   "metadata": {
    "tags": []
   },
   "outputs": [],
   "source": [
    "import pandas as pd\n",
    "from google.cloud import aiplatform as vertexai\n",
    "from pandas_gbq import to_gbq\n",
    "import seaborn as sns\n",
    "import matplotlib.pyplot as plt\n",
    "from sklearn.preprocessing import OrdinalEncoder"
   ]
  },
  {
   "cell_type": "code",
   "execution_count": 2,
   "id": "b3235626-87d6-4b45-9805-50f909e81071",
   "metadata": {
    "tags": []
   },
   "outputs": [],
   "source": [
    "PROJECT_ID = !(gcloud config get-value core/project)\n",
    "PROJECT_ID = PROJECT_ID[0]\n",
    "\n",
    "BQ_LOCATION = 'US'\n",
    "REGION = 'us-central1'"
   ]
  },
  {
   "cell_type": "code",
   "execution_count": 3,
   "id": "2ace256c-7c0b-453a-a92e-a810e3eff107",
   "metadata": {
    "tags": []
   },
   "outputs": [],
   "source": [
    "GCS_BUCKET = f\"khue-capstone-bucket\"\n",
    "BQ_DATASET = f\"{PROJECT_ID}:khue_capstone\""
   ]
  },
  {
   "cell_type": "code",
   "execution_count": 4,
   "id": "5bf02010-a6f9-4b64-b008-818c0c328eee",
   "metadata": {
    "tags": []
   },
   "outputs": [],
   "source": [
    "vertexai.init(project=PROJECT_ID, location=REGION, staging_bucket=f\"gs://{GCS_BUCKET}\")"
   ]
  },
  {
   "cell_type": "code",
   "execution_count": null,
   "id": "83319346-eb99-4676-8dc2-cea52e1ddd53",
   "metadata": {},
   "outputs": [],
   "source": [
    "# get counts of target labels\n",
    "%%bigquery label_counts --project $PROJECT_ID \n",
    "SELECT add_to_cart, COUNT(*) AS total \n",
    "FROM khue_capstone.hits_data\n",
    "GROUP BY add_to_cart"
   ]
  },
  {
   "cell_type": "markdown",
   "id": "b1d71205-7005-4df9-bd15-967b4d5f71e4",
   "metadata": {},
   "source": [
    "# Models"
   ]
  },
  {
   "cell_type": "markdown",
   "id": "b53d4733-f182-48f9-994b-3e4df5ca8b45",
   "metadata": {},
   "source": [
    "### Boosted Tree"
   ]
  },
  {
   "cell_type": "code",
   "execution_count": 161,
   "id": "6db2f578-26ff-4579-b1a1-8a2a6269eac1",
   "metadata": {},
   "outputs": [
    {
     "data": {
      "application/vnd.jupyter.widget-view+json": {
       "model_id": "599cf410386c471c8e50df73029a9527",
       "version_major": 2,
       "version_minor": 0
      },
      "text/plain": [
       "Query is running:   0%|          |"
      ]
     },
     "metadata": {},
     "output_type": "display_data"
    },
    {
     "data": {
      "text/html": [
       "<div>\n",
       "<style scoped>\n",
       "    .dataframe tbody tr th:only-of-type {\n",
       "        vertical-align: middle;\n",
       "    }\n",
       "\n",
       "    .dataframe tbody tr th {\n",
       "        vertical-align: top;\n",
       "    }\n",
       "\n",
       "    .dataframe thead th {\n",
       "        text-align: right;\n",
       "    }\n",
       "</style>\n",
       "<table border=\"1\" class=\"dataframe\">\n",
       "  <thead>\n",
       "    <tr style=\"text-align: right;\">\n",
       "      <th></th>\n",
       "    </tr>\n",
       "  </thead>\n",
       "  <tbody>\n",
       "  </tbody>\n",
       "</table>\n",
       "</div>"
      ],
      "text/plain": [
       "Empty DataFrame\n",
       "Columns: []\n",
       "Index: []"
      ]
     },
     "execution_count": 161,
     "metadata": {},
     "output_type": "execute_result"
    }
   ],
   "source": [
    "%%bigquery --project $PROJECT_ID\n",
    "CREATE OR REPLACE MODEL khue_capstone.khue_boosted_tree_model\n",
    "OPTIONS(\n",
    "  MODEL_TYPE=\"BOOSTED_TREE_CLASSIFIER\",\n",
    "  INPUT_LABEL_COLS=[\"add_to_cart\"],\n",
    "  DATA_SPLIT_METHOD=\"AUTO_SPLIT\",\n",
    "  ENABLE_GLOBAL_EXPLAIN=True,\n",
    "  HPARAM_TUNING_ALGORITHM=\"RANDOM_SEARCH\", \n",
    "  num_trials=4,\n",
    "  max_parallel_trials=3,\n",
    "  HPARAM_TUNING_OBJECTIVES=[\"ROC_AUC\"],\n",
    "  EARLY_STOP=True\n",
    ") AS\n",
    "SELECT\n",
    "  * \n",
    "FROM\n",
    "  khue_capstone.hits_data"
   ]
  },
  {
   "cell_type": "markdown",
   "id": "43ecf50b-e855-4fb0-a295-9da78ee55673",
   "metadata": {},
   "source": [
    "### Logistic Regression"
   ]
  },
  {
   "cell_type": "code",
   "execution_count": 8,
   "id": "997970c8-b5f1-4876-823a-0aaa9e2fa66c",
   "metadata": {
    "tags": []
   },
   "outputs": [
    {
     "data": {
      "application/vnd.jupyter.widget-view+json": {
       "model_id": "a80e004cda28451dae8cfc660168177e",
       "version_major": 2,
       "version_minor": 0
      },
      "text/plain": [
       "Query is running:   0%|          |"
      ]
     },
     "metadata": {},
     "output_type": "display_data"
    },
    {
     "data": {
      "text/html": [
       "<div>\n",
       "<style scoped>\n",
       "    .dataframe tbody tr th:only-of-type {\n",
       "        vertical-align: middle;\n",
       "    }\n",
       "\n",
       "    .dataframe tbody tr th {\n",
       "        vertical-align: top;\n",
       "    }\n",
       "\n",
       "    .dataframe thead th {\n",
       "        text-align: right;\n",
       "    }\n",
       "</style>\n",
       "<table border=\"1\" class=\"dataframe\">\n",
       "  <thead>\n",
       "    <tr style=\"text-align: right;\">\n",
       "      <th></th>\n",
       "    </tr>\n",
       "  </thead>\n",
       "  <tbody>\n",
       "  </tbody>\n",
       "</table>\n",
       "</div>"
      ],
      "text/plain": [
       "Empty DataFrame\n",
       "Columns: []\n",
       "Index: []"
      ]
     },
     "execution_count": 8,
     "metadata": {},
     "output_type": "execute_result"
    }
   ],
   "source": [
    "%%bigquery --project $PROJECT_ID\n",
    "CREATE OR REPLACE MODEL khue_capstone.khue_logistic_model\n",
    "OPTIONS(\n",
    "    MODEL_TYPE=\"LOGISTIC_REG\",\n",
    "    INPUT_LABEL_COLS=[\"add_to_cart\"],\n",
    "    DATA_SPLIT_METHOD=\"AUTO_SPLIT\",\n",
    "    AUTO_CLASS_WEIGHTS=True,\n",
    "    ENABLE_GLOBAL_EXPLAIN=True,\n",
    "    HPARAM_TUNING_ALGORITHM=\"RANDOM_SEARCH\", \n",
    "    num_trials=4,\n",
    "    max_parallel_trials=3,\n",
    "    HPARAM_TUNING_OBJECTIVES=[\"ROC_AUC\"],\n",
    "    EARLY_STOP=True\n",
    ") AS\n",
    "SELECT * FROM khue_capstone.hits_data"
   ]
  },
  {
   "cell_type": "markdown",
   "id": "704d5893-d890-4c49-b8e5-bcc4cc239ddd",
   "metadata": {},
   "source": [
    "### Deep Neural Networks"
   ]
  },
  {
   "cell_type": "code",
   "execution_count": 10,
   "id": "1cba5a85-1279-4e28-9e59-60bc1239a601",
   "metadata": {
    "tags": []
   },
   "outputs": [
    {
     "data": {
      "application/vnd.jupyter.widget-view+json": {
       "model_id": "2520e4593161412db000890f0aa2b9fb",
       "version_major": 2,
       "version_minor": 0
      },
      "text/plain": [
       "Query is running:   0%|          |"
      ]
     },
     "metadata": {},
     "output_type": "display_data"
    },
    {
     "data": {
      "text/html": [
       "<div>\n",
       "<style scoped>\n",
       "    .dataframe tbody tr th:only-of-type {\n",
       "        vertical-align: middle;\n",
       "    }\n",
       "\n",
       "    .dataframe tbody tr th {\n",
       "        vertical-align: top;\n",
       "    }\n",
       "\n",
       "    .dataframe thead th {\n",
       "        text-align: right;\n",
       "    }\n",
       "</style>\n",
       "<table border=\"1\" class=\"dataframe\">\n",
       "  <thead>\n",
       "    <tr style=\"text-align: right;\">\n",
       "      <th></th>\n",
       "    </tr>\n",
       "  </thead>\n",
       "  <tbody>\n",
       "  </tbody>\n",
       "</table>\n",
       "</div>"
      ],
      "text/plain": [
       "Empty DataFrame\n",
       "Columns: []\n",
       "Index: []"
      ]
     },
     "execution_count": 10,
     "metadata": {},
     "output_type": "execute_result"
    }
   ],
   "source": [
    "%%bigquery --project $PROJECT_ID\n",
    "CREATE OR REPLACE MODEL khue_capstone.khue_DNN_model\n",
    "OPTIONS(\n",
    "    MODEL_TYPE=\"DNN_CLASSIFIER\",\n",
    "    INPUT_LABEL_COLS=[\"add_to_cart\"],\n",
    "    DATA_SPLIT_METHOD=\"AUTO_SPLIT\",\n",
    "    AUTO_CLASS_WEIGHTS=True,\n",
    "    HPARAM_TUNING_ALGORITHM=\"RANDOM_SEARCH\", \n",
    "    num_trials=4,\n",
    "    max_parallel_trials=3,\n",
    "    HPARAM_TUNING_OBJECTIVES=[\"ROC_AUC\"],\n",
    "    EARLY_STOP=True\n",
    ") AS\n",
    "SELECT * FROM khue_capstone.hits_data"
   ]
  },
  {
   "cell_type": "markdown",
   "id": "5a23b54d-6fe6-4d19-99ea-e49047dd6ae4",
   "metadata": {},
   "source": [
    "### Wide and Deep Network"
   ]
  },
  {
   "cell_type": "code",
   "execution_count": 15,
   "id": "c1b147d9-acd2-40c1-b78a-95360d4e528f",
   "metadata": {
    "tags": []
   },
   "outputs": [],
   "source": [
    "%%bigquery --project $PROJECT_ID\n",
    "CREATE OR REPLACE MODEL khue_capstone.khue_deep_network_model\n",
    "OPTIONS(\n",
    "    MODEL_TYPE=\"DNN_LINEAR_COMBINED_CLASSIFIER\",\n",
    "    INPUT_LABEL_COLS=[\"add_to_cart\"],\n",
    "    DATA_SPLIT_METHOD=\"AUTO_SPLIT\",\n",
    "    AUTO_CLASS_WEIGHTS=True,\n",
    "    HPARAM_TUNING_ALGORITHM=\"RANDOM_SEARCH\", \n",
    "    num_trials=4,\n",
    "    max_parallel_trials=3,\n",
    "    HPARAM_TUNING_OBJECTIVES=[\"ROC_AUC\"],\n",
    "    EARLY_STOP=True,\n",
    "    OPTIMIZER=\"SGD\"\n",
    ") AS\n",
    "SELECT * FROM khue_capstone.hits_data"
   ]
  },
  {
   "cell_type": "markdown",
   "id": "527bd370-c423-4fb0-9ec4-b8fca03e7ec7",
   "metadata": {},
   "source": [
    "### Logistice Regression with Undersampling"
   ]
  },
  {
   "cell_type": "code",
   "execution_count": 25,
   "id": "c023c0f9-8cce-49f7-9455-87140c6b496b",
   "metadata": {
    "tags": []
   },
   "outputs": [
    {
     "name": "stdout",
     "output_type": "stream",
     "text": [
      "Executing query with job ID: 5e131832-8dff-4bf9-acac-3863d1aa06bf\n",
      "Query executing: 0.45s"
     ]
    },
    {
     "name": "stderr",
     "output_type": "stream",
     "text": [
      "\n",
      "ERROR:\n",
      " 400 LIMIT expects an integer literal or parameter at [18:11]; reason: invalidQuery, location: query, message: LIMIT expects an integer literal or parameter at [18:11]\n",
      "\n",
      "Location: US\n",
      "Job ID: 5e131832-8dff-4bf9-acac-3863d1aa06bf\n",
      "\n"
     ]
    }
   ],
   "source": [
    "%%bigquery --project $PROJECT_ID\n",
    "CREATE OR REPLACE MODEL khue_capstone.khue_logistic_undersample_model\n",
    "OPTIONS(\n",
    "    MODEL_TYPE=\"LOGISTIC_REG\",\n",
    "    INPUT_LABEL_COLS=[\"add_to_cart\"],\n",
    "    DATA_SPLIT_METHOD=\"AUTO_SPLIT\",\n",
    "    AUTO_CLASS_WEIGHTS=True,\n",
    "    ENABLE_GLOBAL_EXPLAIN=True,\n",
    "    HPARAM_TUNING_ALGORITHM=\"RANDOM_SEARCH\", \n",
    "    num_trials=4,\n",
    "    max_parallel_trials=3,\n",
    "    HPARAM_TUNING_OBJECTIVES=[\"ROC_AUC\"],\n",
    "    EARLY_STOP=True\n",
    ") AS\n",
    "WITH balanced_data AS (\n",
    "  SELECT * FROM (\n",
    "    SELECT * FROM khue_capstone.hits_data WHERE add_to_cart = 0 \n",
    "    ORDER BY RAND()  -- Randomize the order\n",
    "    LIMIT (8082)  -- Limit to the number of minority class examples\n",
    "  ) \n",
    "  UNION ALL\n",
    "  SELECT * FROM khue_capstone.hits_data WHERE add_to_cart = 1 \n",
    ")\n",
    "SELECT * FROM balanced_data\n"
   ]
  },
  {
   "cell_type": "markdown",
   "id": "b91d5e51-0e76-42dc-8a7d-83c3e8002d80",
   "metadata": {},
   "source": [
    "### Logistice Regression with Oversampling"
   ]
  },
  {
   "cell_type": "code",
   "execution_count": null,
   "id": "2b907445-898d-4928-bd73-3c28c9302cb0",
   "metadata": {},
   "outputs": [],
   "source": [
    "%%bigquery --project $PROJECT_ID\n",
    "CREATE OR REPLACE MODEL khue_capstone.khue_logistic_oversample_model\n",
    "OPTIONS(\n",
    "  MODEL_TYPE=\"LOGISTIC_REG\",\n",
    "  INPUT_LABEL_COLS=[\"add_to_cart\"],\n",
    "  DATA_SPLIT_METHOD=\"AUTO_SPLIT\",\n",
    "  AUTO_CLASS_WEIGHTS=True,\n",
    "  ENABLE_GLOBAL_EXPLAIN=True,\n",
    "  HPARAM_TUNING_ALGORITHM=\"RANDOM_SEARCH\", \n",
    "  num_trials=4,\n",
    "  max_parallel_trials=3,\n",
    "  HPARAM_TUNING_OBJECTIVES=[\"ROC_AUC\"],\n",
    "  EARLY_STOP=True\n",
    ")\n",
    "AS\n",
    "\n",
    "WITH balanced_data AS (\n",
    "  SELECT * FROM (\n",
    "    SELECT * FROM khue_capstone.hits_data WHERE add_to_cart = 0 \n",
    "    UNION ALL\n",
    "    SELECT * FROM khue_capstone.hits_data WHERE add_to_cart = 1  \n",
    "  ) \n",
    "  CROSS JOIN UNNEST(GENERATE_ARRAY(1, 100)) as _  \n",
    ")\n",
    "\n",
    "SELECT * FROM balanced_data;"
   ]
  },
  {
   "cell_type": "markdown",
   "id": "fac5517d-0d16-44f8-830c-30e55d8f644d",
   "metadata": {},
   "source": [
    "### Logistic Regression (Weights Modified)"
   ]
  },
  {
   "cell_type": "code",
   "execution_count": 79,
   "id": "155c7278-7b63-4bca-8ce9-cd2d401d9ff0",
   "metadata": {
    "tags": []
   },
   "outputs": [
    {
     "data": {
      "application/vnd.jupyter.widget-view+json": {
       "model_id": "d4d964cd97cc4bd495ac7f1b59904c1a",
       "version_major": 2,
       "version_minor": 0
      },
      "text/plain": [
       "Query is running:   0%|          |"
      ]
     },
     "metadata": {},
     "output_type": "display_data"
    },
    {
     "data": {
      "text/html": [
       "<div>\n",
       "<style scoped>\n",
       "    .dataframe tbody tr th:only-of-type {\n",
       "        vertical-align: middle;\n",
       "    }\n",
       "\n",
       "    .dataframe tbody tr th {\n",
       "        vertical-align: top;\n",
       "    }\n",
       "\n",
       "    .dataframe thead th {\n",
       "        text-align: right;\n",
       "    }\n",
       "</style>\n",
       "<table border=\"1\" class=\"dataframe\">\n",
       "  <thead>\n",
       "    <tr style=\"text-align: right;\">\n",
       "      <th></th>\n",
       "    </tr>\n",
       "  </thead>\n",
       "  <tbody>\n",
       "  </tbody>\n",
       "</table>\n",
       "</div>"
      ],
      "text/plain": [
       "Empty DataFrame\n",
       "Columns: []\n",
       "Index: []"
      ]
     },
     "execution_count": 79,
     "metadata": {},
     "output_type": "execute_result"
    }
   ],
   "source": [
    "%%bigquery --project $PROJECT_ID\n",
    "CREATE OR REPLACE MODEL khue_capstone.khue_logistic_weighted_model\n",
    "OPTIONS(\n",
    "    MODEL_TYPE=\"LOGISTIC_REG\",\n",
    "    INPUT_LABEL_COLS=[\"add_to_cart\"],\n",
    "    DATA_SPLIT_METHOD=\"AUTO_SPLIT\",\n",
    "    CLASS_WEIGHTS=[\n",
    "        STRUCT('0', 1.0), \n",
    "        STRUCT('1', 125.0)\n",
    "    ],\n",
    "    ENABLE_GLOBAL_EXPLAIN=True,\n",
    "    HPARAM_TUNING_ALGORITHM=\"RANDOM_SEARCH\", \n",
    "    num_trials=4,\n",
    "    max_parallel_trials=3,\n",
    "    HPARAM_TUNING_OBJECTIVES=[\"ROC_AUC\"],\n",
    "    EARLY_STOP=True\n",
    ") AS\n",
    "SELECT * FROM khue_capstone.hits_data"
   ]
  },
  {
   "cell_type": "markdown",
   "id": "90cbd999-4fa7-46fb-afe3-6c85bce64e07",
   "metadata": {
    "tags": []
   },
   "source": [
    "# Models Metrics"
   ]
  },
  {
   "cell_type": "markdown",
   "id": "5c73dcf1-1991-4160-b1c8-5af9d43ebebd",
   "metadata": {},
   "source": [
    "### Boosted Tree"
   ]
  },
  {
   "cell_type": "code",
   "execution_count": 162,
   "id": "b8015ccf-e569-4ddd-b253-d2525b63c1d2",
   "metadata": {
    "tags": []
   },
   "outputs": [
    {
     "data": {
      "application/vnd.jupyter.widget-view+json": {
       "model_id": "aabe46831fa74e84bac1973d2d9097b0",
       "version_major": 2,
       "version_minor": 0
      },
      "text/plain": [
       "Query is running:   0%|          |"
      ]
     },
     "metadata": {},
     "output_type": "display_data"
    },
    {
     "data": {
      "application/vnd.jupyter.widget-view+json": {
       "model_id": "cc6e3c9ddebd44b2bae15e56b2bf6551",
       "version_major": 2,
       "version_minor": 0
      },
      "text/plain": [
       "Downloading:   0%|          |"
      ]
     },
     "metadata": {},
     "output_type": "display_data"
    }
   ],
   "source": [
    "%%bigquery boosted_tree_model_df --project $PROJECT_ID \n",
    "SELECT * FROM ML.EVALUATE(MODEL khue_capstone.khue_boosted_tree_model) "
   ]
  },
  {
   "cell_type": "code",
   "execution_count": 163,
   "id": "84619035-537e-4ac3-af8c-1141eca0f974",
   "metadata": {
    "tags": []
   },
   "outputs": [
    {
     "data": {
      "text/html": [
       "<div>\n",
       "<style scoped>\n",
       "    .dataframe tbody tr th:only-of-type {\n",
       "        vertical-align: middle;\n",
       "    }\n",
       "\n",
       "    .dataframe tbody tr th {\n",
       "        vertical-align: top;\n",
       "    }\n",
       "\n",
       "    .dataframe thead th {\n",
       "        text-align: right;\n",
       "    }\n",
       "</style>\n",
       "<table border=\"1\" class=\"dataframe\">\n",
       "  <thead>\n",
       "    <tr style=\"text-align: right;\">\n",
       "      <th></th>\n",
       "      <th>trial_id</th>\n",
       "      <th>precision</th>\n",
       "      <th>recall</th>\n",
       "      <th>accuracy</th>\n",
       "      <th>f1_score</th>\n",
       "      <th>log_loss</th>\n",
       "      <th>roc_auc</th>\n",
       "    </tr>\n",
       "  </thead>\n",
       "  <tbody>\n",
       "    <tr>\n",
       "      <th>0</th>\n",
       "      <td>1</td>\n",
       "      <td>0.946860</td>\n",
       "      <td>0.235012</td>\n",
       "      <td>0.994287</td>\n",
       "      <td>0.376561</td>\n",
       "      <td>0.031917</td>\n",
       "      <td>0.862691</td>\n",
       "    </tr>\n",
       "    <tr>\n",
       "      <th>1</th>\n",
       "      <td>2</td>\n",
       "      <td>0.951456</td>\n",
       "      <td>0.235012</td>\n",
       "      <td>0.994296</td>\n",
       "      <td>0.376923</td>\n",
       "      <td>0.126629</td>\n",
       "      <td>0.873452</td>\n",
       "    </tr>\n",
       "    <tr>\n",
       "      <th>2</th>\n",
       "      <td>3</td>\n",
       "      <td>0.946860</td>\n",
       "      <td>0.235012</td>\n",
       "      <td>0.994287</td>\n",
       "      <td>0.376561</td>\n",
       "      <td>0.315715</td>\n",
       "      <td>0.869742</td>\n",
       "    </tr>\n",
       "    <tr>\n",
       "      <th>3</th>\n",
       "      <td>4</td>\n",
       "      <td>0.968468</td>\n",
       "      <td>0.257794</td>\n",
       "      <td>0.994490</td>\n",
       "      <td>0.407197</td>\n",
       "      <td>0.024491</td>\n",
       "      <td>0.921780</td>\n",
       "    </tr>\n",
       "  </tbody>\n",
       "</table>\n",
       "</div>"
      ],
      "text/plain": [
       "   trial_id  precision    recall  accuracy  f1_score  log_loss   roc_auc\n",
       "0         1   0.946860  0.235012  0.994287  0.376561  0.031917  0.862691\n",
       "1         2   0.951456  0.235012  0.994296  0.376923  0.126629  0.873452\n",
       "2         3   0.946860  0.235012  0.994287  0.376561  0.315715  0.869742\n",
       "3         4   0.968468  0.257794  0.994490  0.407197  0.024491  0.921780"
      ]
     },
     "metadata": {},
     "output_type": "display_data"
    }
   ],
   "source": [
    "display(boosted_tree_model_df)"
   ]
  },
  {
   "cell_type": "code",
   "execution_count": 170,
   "id": "a699ffb1-d4a7-497d-afa9-6e76c1a6c4f5",
   "metadata": {
    "tags": []
   },
   "outputs": [
    {
     "data": {
      "image/png": "[encoded data removed]",
      "text/plain": [
       "<Figure size 1000x600 with 1 Axes>"
      ]
     },
     "metadata": {},
     "output_type": "display_data"
    }
   ],
   "source": [
    "ax = boosted_tree_model_df.plot(x='trial_id', kind='bar', figsize=(10, 6))\n",
    "plt.xlabel('Trials')\n",
    "plt.ylabel('Scores')\n",
    "plt.title('Boosted Tree Model')\n",
    "plt.legend(title='Metrics', bbox_to_anchor=(1.05, 1), loc='upper left')\n",
    "plt.xticks(rotation=0)\n",
    "plt.show()"
   ]
  },
  {
   "cell_type": "markdown",
   "id": "619ef0b7-bc52-427a-a6d6-ba4501432dd7",
   "metadata": {},
   "source": [
    "### Logistic Regression"
   ]
  },
  {
   "cell_type": "code",
   "execution_count": 67,
   "id": "13c1b174-4ead-46e8-9843-1fa61339c444",
   "metadata": {
    "tags": []
   },
   "outputs": [
    {
     "data": {
      "application/vnd.jupyter.widget-view+json": {
       "model_id": "ad776ac344ca48ef9ae261af49e167b7",
       "version_major": 2,
       "version_minor": 0
      },
      "text/plain": [
       "Query is running:   0%|          |"
      ]
     },
     "metadata": {},
     "output_type": "display_data"
    },
    {
     "data": {
      "application/vnd.jupyter.widget-view+json": {
       "model_id": "badf5ff1b8604de7aa6b14cedd154202",
       "version_major": 2,
       "version_minor": 0
      },
      "text/plain": [
       "Downloading:   0%|          |"
      ]
     },
     "metadata": {},
     "output_type": "display_data"
    }
   ],
   "source": [
    "%%bigquery logistic_model_df --project $PROJECT_ID \n",
    "SELECT * FROM ML.EVALUATE(MODEL khue_capstone.khue_logistic_model)"
   ]
  },
  {
   "cell_type": "code",
   "execution_count": 68,
   "id": "e59e7c02-5140-46e8-8c63-47528f695890",
   "metadata": {
    "tags": []
   },
   "outputs": [
    {
     "data": {
      "text/html": [
       "<div>\n",
       "<style scoped>\n",
       "    .dataframe tbody tr th:only-of-type {\n",
       "        vertical-align: middle;\n",
       "    }\n",
       "\n",
       "    .dataframe tbody tr th {\n",
       "        vertical-align: top;\n",
       "    }\n",
       "\n",
       "    .dataframe thead th {\n",
       "        text-align: right;\n",
       "    }\n",
       "</style>\n",
       "<table border=\"1\" class=\"dataframe\">\n",
       "  <thead>\n",
       "    <tr style=\"text-align: right;\">\n",
       "      <th></th>\n",
       "      <th>trial_id</th>\n",
       "      <th>precision</th>\n",
       "      <th>recall</th>\n",
       "      <th>accuracy</th>\n",
       "      <th>f1_score</th>\n",
       "      <th>log_loss</th>\n",
       "      <th>roc_auc</th>\n",
       "    </tr>\n",
       "  </thead>\n",
       "  <tbody>\n",
       "    <tr>\n",
       "      <th>0</th>\n",
       "      <td>1</td>\n",
       "      <td>0.042839</td>\n",
       "      <td>0.741007</td>\n",
       "      <td>0.876559</td>\n",
       "      <td>0.080996</td>\n",
       "      <td>0.344451</td>\n",
       "      <td>0.896081</td>\n",
       "    </tr>\n",
       "    <tr>\n",
       "      <th>1</th>\n",
       "      <td>2</td>\n",
       "      <td>0.042839</td>\n",
       "      <td>0.741007</td>\n",
       "      <td>0.876559</td>\n",
       "      <td>0.080996</td>\n",
       "      <td>0.344451</td>\n",
       "      <td>0.896081</td>\n",
       "    </tr>\n",
       "    <tr>\n",
       "      <th>2</th>\n",
       "      <td>3</td>\n",
       "      <td>0.042839</td>\n",
       "      <td>0.741007</td>\n",
       "      <td>0.876559</td>\n",
       "      <td>0.080996</td>\n",
       "      <td>0.344451</td>\n",
       "      <td>0.896081</td>\n",
       "    </tr>\n",
       "    <tr>\n",
       "      <th>3</th>\n",
       "      <td>4</td>\n",
       "      <td>0.042839</td>\n",
       "      <td>0.741007</td>\n",
       "      <td>0.876559</td>\n",
       "      <td>0.080996</td>\n",
       "      <td>0.344451</td>\n",
       "      <td>0.896081</td>\n",
       "    </tr>\n",
       "  </tbody>\n",
       "</table>\n",
       "</div>"
      ],
      "text/plain": [
       "   trial_id  precision    recall  accuracy  f1_score  log_loss   roc_auc\n",
       "0         1   0.042839  0.741007  0.876559  0.080996  0.344451  0.896081\n",
       "1         2   0.042839  0.741007  0.876559  0.080996  0.344451  0.896081\n",
       "2         3   0.042839  0.741007  0.876559  0.080996  0.344451  0.896081\n",
       "3         4   0.042839  0.741007  0.876559  0.080996  0.344451  0.896081"
      ]
     },
     "metadata": {},
     "output_type": "display_data"
    }
   ],
   "source": [
    "display(logistic_model_df)"
   ]
  },
  {
   "cell_type": "code",
   "execution_count": 60,
   "id": "a9b65bb5-652f-48d2-9741-38c9ed9068d3",
   "metadata": {
    "tags": []
   },
   "outputs": [
    {
     "data": {
      "image/png": "[encoded data removed]",
      "text/plain": [
       "<Figure size 1000x600 with 1 Axes>"
      ]
     },
     "metadata": {},
     "output_type": "display_data"
    }
   ],
   "source": [
    "ax = logistic_model_df.plot(x='trial_id', kind='bar', figsize=(10, 6))\n",
    "plt.xlabel('Trials')\n",
    "plt.ylabel('Scores')\n",
    "plt.title('Logistic Model')\n",
    "plt.legend(title='Metrics', bbox_to_anchor=(1.05, 1), loc='upper left')\n",
    "plt.xticks(rotation=0)\n",
    "plt.show()"
   ]
  },
  {
   "cell_type": "markdown",
   "id": "8803a1c0-b423-433d-a9ab-bfc4a8888c8d",
   "metadata": {},
   "source": [
    "### Deep Neural Networks"
   ]
  },
  {
   "cell_type": "code",
   "execution_count": 69,
   "id": "bb667104-85d6-4e4f-a7c6-6142c9fe163d",
   "metadata": {
    "tags": []
   },
   "outputs": [
    {
     "data": {
      "application/vnd.jupyter.widget-view+json": {
       "model_id": "8a60d4f4a78c45feb37fb1f10320b987",
       "version_major": 2,
       "version_minor": 0
      },
      "text/plain": [
       "Query is running:   0%|          |"
      ]
     },
     "metadata": {},
     "output_type": "display_data"
    },
    {
     "data": {
      "application/vnd.jupyter.widget-view+json": {
       "model_id": "db534a15086042a4b7ef49e83aadf1d5",
       "version_major": 2,
       "version_minor": 0
      },
      "text/plain": [
       "Downloading:   0%|          |"
      ]
     },
     "metadata": {},
     "output_type": "display_data"
    }
   ],
   "source": [
    "%%bigquery DNN_model_df --project $PROJECT_ID \n",
    "SELECT * FROM ML.EVALUATE(MODEL khue_capstone.khue_DNN_model)"
   ]
  },
  {
   "cell_type": "code",
   "execution_count": 70,
   "id": "d4e0ee45-fe11-44dd-afd6-32ea47a83b1d",
   "metadata": {
    "tags": []
   },
   "outputs": [
    {
     "data": {
      "text/html": [
       "<div>\n",
       "<style scoped>\n",
       "    .dataframe tbody tr th:only-of-type {\n",
       "        vertical-align: middle;\n",
       "    }\n",
       "\n",
       "    .dataframe tbody tr th {\n",
       "        vertical-align: top;\n",
       "    }\n",
       "\n",
       "    .dataframe thead th {\n",
       "        text-align: right;\n",
       "    }\n",
       "</style>\n",
       "<table border=\"1\" class=\"dataframe\">\n",
       "  <thead>\n",
       "    <tr style=\"text-align: right;\">\n",
       "      <th></th>\n",
       "      <th>trial_id</th>\n",
       "      <th>precision</th>\n",
       "      <th>recall</th>\n",
       "      <th>accuracy</th>\n",
       "      <th>f1_score</th>\n",
       "      <th>log_loss</th>\n",
       "      <th>roc_auc</th>\n",
       "    </tr>\n",
       "  </thead>\n",
       "  <tbody>\n",
       "    <tr>\n",
       "      <th>0</th>\n",
       "      <td>1</td>\n",
       "      <td>0.057965</td>\n",
       "      <td>0.890887</td>\n",
       "      <td>0.892913</td>\n",
       "      <td>0.108849</td>\n",
       "      <td>0.255923</td>\n",
       "      <td>0.958231</td>\n",
       "    </tr>\n",
       "    <tr>\n",
       "      <th>1</th>\n",
       "      <td>2</td>\n",
       "      <td>0.059085</td>\n",
       "      <td>0.860911</td>\n",
       "      <td>0.898336</td>\n",
       "      <td>0.110581</td>\n",
       "      <td>0.275339</td>\n",
       "      <td>0.950781</td>\n",
       "    </tr>\n",
       "    <tr>\n",
       "      <th>2</th>\n",
       "      <td>3</td>\n",
       "      <td>0.045237</td>\n",
       "      <td>0.859712</td>\n",
       "      <td>0.865768</td>\n",
       "      <td>0.085951</td>\n",
       "      <td>0.317954</td>\n",
       "      <td>0.940151</td>\n",
       "    </tr>\n",
       "    <tr>\n",
       "      <th>3</th>\n",
       "      <td>4</td>\n",
       "      <td>0.075748</td>\n",
       "      <td>0.886091</td>\n",
       "      <td>0.919795</td>\n",
       "      <td>0.139566</td>\n",
       "      <td>0.226110</td>\n",
       "      <td>0.960855</td>\n",
       "    </tr>\n",
       "  </tbody>\n",
       "</table>\n",
       "</div>"
      ],
      "text/plain": [
       "   trial_id  precision    recall  accuracy  f1_score  log_loss   roc_auc\n",
       "0         1   0.057965  0.890887  0.892913  0.108849  0.255923  0.958231\n",
       "1         2   0.059085  0.860911  0.898336  0.110581  0.275339  0.950781\n",
       "2         3   0.045237  0.859712  0.865768  0.085951  0.317954  0.940151\n",
       "3         4   0.075748  0.886091  0.919795  0.139566  0.226110  0.960855"
      ]
     },
     "metadata": {},
     "output_type": "display_data"
    }
   ],
   "source": [
    "display(DNN_model_df)"
   ]
  },
  {
   "cell_type": "code",
   "execution_count": 63,
   "id": "dd79895e-aefd-4e30-9ad8-dc9a65d3118c",
   "metadata": {
    "tags": []
   },
   "outputs": [
    {
     "data": {
      "image/png": "[encoded data removed]",
      "text/plain": [
       "<Figure size 1000x600 with 1 Axes>"
      ]
     },
     "metadata": {},
     "output_type": "display_data"
    }
   ],
   "source": [
    "ax = DNN_model_df.plot(x='trial_id', kind='bar', figsize=(10, 6))\n",
    "plt.xlabel('Trials')\n",
    "plt.ylabel('Scores')\n",
    "plt.title('Deep Neural Networks Model')\n",
    "plt.legend(title='Metrics', bbox_to_anchor=(1.05, 1), loc='upper left')\n",
    "plt.xticks(rotation=0)\n",
    "plt.show()"
   ]
  },
  {
   "cell_type": "markdown",
   "id": "583d4781-09d4-45ee-abf5-43231dcf43b4",
   "metadata": {},
   "source": [
    "### Wide And Deep Classifier"
   ]
  },
  {
   "cell_type": "code",
   "execution_count": 71,
   "id": "f55f42da-6d3a-42c2-a1d2-9569e6af8ff5",
   "metadata": {
    "tags": []
   },
   "outputs": [
    {
     "data": {
      "application/vnd.jupyter.widget-view+json": {
       "model_id": "49f26fcc08434499a910ddef7d50ee5c",
       "version_major": 2,
       "version_minor": 0
      },
      "text/plain": [
       "Query is running:   0%|          |"
      ]
     },
     "metadata": {},
     "output_type": "display_data"
    },
    {
     "data": {
      "application/vnd.jupyter.widget-view+json": {
       "model_id": "cd15e75b54e84bb0bb2c9164f43d621d",
       "version_major": 2,
       "version_minor": 0
      },
      "text/plain": [
       "Downloading:   0%|          |"
      ]
     },
     "metadata": {},
     "output_type": "display_data"
    }
   ],
   "source": [
    "%%bigquery deep_network_model_df --project $PROJECT_ID \n",
    "SELECT * FROM ML.EVALUATE(MODEL khue_capstone.khue_deep_network_model)"
   ]
  },
  {
   "cell_type": "code",
   "execution_count": 72,
   "id": "057eefb2-7b26-4ef0-b006-af7086c1462a",
   "metadata": {
    "tags": []
   },
   "outputs": [
    {
     "data": {
      "text/html": [
       "<div>\n",
       "<style scoped>\n",
       "    .dataframe tbody tr th:only-of-type {\n",
       "        vertical-align: middle;\n",
       "    }\n",
       "\n",
       "    .dataframe tbody tr th {\n",
       "        vertical-align: top;\n",
       "    }\n",
       "\n",
       "    .dataframe thead th {\n",
       "        text-align: right;\n",
       "    }\n",
       "</style>\n",
       "<table border=\"1\" class=\"dataframe\">\n",
       "  <thead>\n",
       "    <tr style=\"text-align: right;\">\n",
       "      <th></th>\n",
       "      <th>trial_id</th>\n",
       "      <th>precision</th>\n",
       "      <th>recall</th>\n",
       "      <th>accuracy</th>\n",
       "      <th>f1_score</th>\n",
       "      <th>log_loss</th>\n",
       "      <th>roc_auc</th>\n",
       "    </tr>\n",
       "  </thead>\n",
       "  <tbody>\n",
       "    <tr>\n",
       "      <th>0</th>\n",
       "      <td>1</td>\n",
       "      <td>0.038730</td>\n",
       "      <td>0.836930</td>\n",
       "      <td>0.846315</td>\n",
       "      <td>0.074035</td>\n",
       "      <td>0.340094</td>\n",
       "      <td>0.921901</td>\n",
       "    </tr>\n",
       "    <tr>\n",
       "      <th>1</th>\n",
       "      <td>2</td>\n",
       "      <td>0.023374</td>\n",
       "      <td>0.733813</td>\n",
       "      <td>0.772967</td>\n",
       "      <td>0.045305</td>\n",
       "      <td>0.518926</td>\n",
       "      <td>0.839515</td>\n",
       "    </tr>\n",
       "    <tr>\n",
       "      <th>2</th>\n",
       "      <td>3</td>\n",
       "      <td>0.042728</td>\n",
       "      <td>0.852518</td>\n",
       "      <td>0.858708</td>\n",
       "      <td>0.081378</td>\n",
       "      <td>0.319406</td>\n",
       "      <td>0.932408</td>\n",
       "    </tr>\n",
       "    <tr>\n",
       "      <th>3</th>\n",
       "      <td>4</td>\n",
       "      <td>0.042455</td>\n",
       "      <td>0.847722</td>\n",
       "      <td>0.858524</td>\n",
       "      <td>0.080860</td>\n",
       "      <td>0.318603</td>\n",
       "      <td>0.933915</td>\n",
       "    </tr>\n",
       "  </tbody>\n",
       "</table>\n",
       "</div>"
      ],
      "text/plain": [
       "   trial_id  precision    recall  accuracy  f1_score  log_loss   roc_auc\n",
       "0         1   0.038730  0.836930  0.846315  0.074035  0.340094  0.921901\n",
       "1         2   0.023374  0.733813  0.772967  0.045305  0.518926  0.839515\n",
       "2         3   0.042728  0.852518  0.858708  0.081378  0.319406  0.932408\n",
       "3         4   0.042455  0.847722  0.858524  0.080860  0.318603  0.933915"
      ]
     },
     "metadata": {},
     "output_type": "display_data"
    }
   ],
   "source": [
    "display(deep_network_model_df)"
   ]
  },
  {
   "cell_type": "code",
   "execution_count": 70,
   "id": "92d84ac4-099f-4ef2-9d0f-a0a496d0d873",
   "metadata": {
    "tags": []
   },
   "outputs": [
    {
     "data": {
      "image/png": "[encoded data removed]",
      "text/plain": [
       "<Figure size 1000x600 with 1 Axes>"
      ]
     },
     "metadata": {},
     "output_type": "display_data"
    }
   ],
   "source": [
    "ax = deep_network_model_df.plot(x='trial_id', kind='bar', figsize=(10, 6))\n",
    "plt.xlabel('Trials')\n",
    "plt.ylabel('Scores')\n",
    "plt.title('Wide and Deep Networks Model')\n",
    "plt.legend(title='Metrics', bbox_to_anchor=(1.05, 1), loc='upper left')\n",
    "plt.xticks(rotation=0)\n",
    "plt.show()"
   ]
  },
  {
   "cell_type": "markdown",
   "id": "b4f1e168-6595-4338-8e3a-de384c457142",
   "metadata": {},
   "source": [
    "### Logistic Undersampling"
   ]
  },
  {
   "cell_type": "code",
   "execution_count": 21,
   "id": "88fd12d1-593b-4611-a13b-7ef4d0ed10b8",
   "metadata": {
    "tags": []
   },
   "outputs": [
    {
     "data": {
      "application/vnd.jupyter.widget-view+json": {
       "model_id": "b9fb7c47650c4634a6034acf331ccf5a",
       "version_major": 2,
       "version_minor": 0
      },
      "text/plain": [
       "Query is running:   0%|          |"
      ]
     },
     "metadata": {},
     "output_type": "display_data"
    },
    {
     "data": {
      "application/vnd.jupyter.widget-view+json": {
       "model_id": "86dba2d3abab406ca7f36cb0978f5d90",
       "version_major": 2,
       "version_minor": 0
      },
      "text/plain": [
       "Downloading:   0%|          |"
      ]
     },
     "metadata": {},
     "output_type": "display_data"
    }
   ],
   "source": [
    "%%bigquery logistic_undersample_model_df --project $PROJECT_ID \n",
    "SELECT * FROM ML.EVALUATE(MODEL khue_capstone.khue_logistic_undersample_model)"
   ]
  },
  {
   "cell_type": "code",
   "execution_count": 22,
   "id": "9789ceab-d6cf-4a09-8a58-da62ebaff3c0",
   "metadata": {
    "tags": []
   },
   "outputs": [
    {
     "data": {
      "text/html": [
       "<div>\n",
       "<style scoped>\n",
       "    .dataframe tbody tr th:only-of-type {\n",
       "        vertical-align: middle;\n",
       "    }\n",
       "\n",
       "    .dataframe tbody tr th {\n",
       "        vertical-align: top;\n",
       "    }\n",
       "\n",
       "    .dataframe thead th {\n",
       "        text-align: right;\n",
       "    }\n",
       "</style>\n",
       "<table border=\"1\" class=\"dataframe\">\n",
       "  <thead>\n",
       "    <tr style=\"text-align: right;\">\n",
       "      <th></th>\n",
       "      <th>trial_id</th>\n",
       "      <th>precision</th>\n",
       "      <th>recall</th>\n",
       "      <th>accuracy</th>\n",
       "      <th>f1_score</th>\n",
       "      <th>log_loss</th>\n",
       "      <th>roc_auc</th>\n",
       "    </tr>\n",
       "  </thead>\n",
       "  <tbody>\n",
       "    <tr>\n",
       "      <th>0</th>\n",
       "      <td>1</td>\n",
       "      <td>0.845088</td>\n",
       "      <td>0.804556</td>\n",
       "      <td>0.829050</td>\n",
       "      <td>0.824324</td>\n",
       "      <td>0.396735</td>\n",
       "      <td>0.905489</td>\n",
       "    </tr>\n",
       "    <tr>\n",
       "      <th>1</th>\n",
       "      <td>2</td>\n",
       "      <td>0.844221</td>\n",
       "      <td>0.805755</td>\n",
       "      <td>0.829050</td>\n",
       "      <td>0.824540</td>\n",
       "      <td>0.397333</td>\n",
       "      <td>0.905156</td>\n",
       "    </tr>\n",
       "    <tr>\n",
       "      <th>2</th>\n",
       "      <td>3</td>\n",
       "      <td>0.845088</td>\n",
       "      <td>0.804556</td>\n",
       "      <td>0.829050</td>\n",
       "      <td>0.824324</td>\n",
       "      <td>0.396637</td>\n",
       "      <td>0.905724</td>\n",
       "    </tr>\n",
       "    <tr>\n",
       "      <th>3</th>\n",
       "      <td>4</td>\n",
       "      <td>0.840000</td>\n",
       "      <td>0.805755</td>\n",
       "      <td>0.826659</td>\n",
       "      <td>0.822521</td>\n",
       "      <td>0.397961</td>\n",
       "      <td>0.904774</td>\n",
       "    </tr>\n",
       "  </tbody>\n",
       "</table>\n",
       "</div>"
      ],
      "text/plain": [
       "   trial_id  precision    recall  accuracy  f1_score  log_loss   roc_auc\n",
       "0         1   0.845088  0.804556  0.829050  0.824324  0.396735  0.905489\n",
       "1         2   0.844221  0.805755  0.829050  0.824540  0.397333  0.905156\n",
       "2         3   0.845088  0.804556  0.829050  0.824324  0.396637  0.905724\n",
       "3         4   0.840000  0.805755  0.826659  0.822521  0.397961  0.904774"
      ]
     },
     "metadata": {},
     "output_type": "display_data"
    }
   ],
   "source": [
    "display(logistic_undersample_model_df)"
   ]
  },
  {
   "cell_type": "code",
   "execution_count": 65,
   "id": "46a9dd83-38a3-4a3f-bb8d-635d20c50c9a",
   "metadata": {
    "tags": []
   },
   "outputs": [
    {
     "data": {
      "image/png": "[encoded data removed]",
      "text/plain": [
       "<Figure size 1000x600 with 1 Axes>"
      ]
     },
     "metadata": {},
     "output_type": "display_data"
    }
   ],
   "source": [
    "ax = logistic_undersample_model_df.plot(x='trial_id', kind='bar', figsize=(10, 6))\n",
    "plt.xlabel('Trials')\n",
    "plt.ylabel('Scores')\n",
    "plt.title('Logistic Regression (Undersample) Model')\n",
    "plt.legend(title='Metrics', bbox_to_anchor=(1.05, 1), loc='upper left')\n",
    "plt.xticks(rotation=0)\n",
    "plt.show()"
   ]
  },
  {
   "cell_type": "markdown",
   "id": "84f7eee6-0d99-46f7-80f5-8a28f49ef3a3",
   "metadata": {},
   "source": [
    "### Logistic Oversampling"
   ]
  },
  {
   "cell_type": "code",
   "execution_count": 73,
   "id": "420730d9-933d-41fc-9f1c-5bbb40303dd8",
   "metadata": {
    "tags": []
   },
   "outputs": [
    {
     "data": {
      "application/vnd.jupyter.widget-view+json": {
       "model_id": "425c204bcc1d45db9892d176e4ae79f1",
       "version_major": 2,
       "version_minor": 0
      },
      "text/plain": [
       "Query is running:   0%|          |"
      ]
     },
     "metadata": {},
     "output_type": "display_data"
    },
    {
     "data": {
      "application/vnd.jupyter.widget-view+json": {
       "model_id": "9a7d1178b9be43e58a7d3808b0e337c7",
       "version_major": 2,
       "version_minor": 0
      },
      "text/plain": [
       "Downloading:   0%|          |"
      ]
     },
     "metadata": {},
     "output_type": "display_data"
    }
   ],
   "source": [
    "%%bigquery logistic_oversample_model_df --project $PROJECT_ID \n",
    "SELECT * FROM ML.EVALUATE(MODEL khue_capstone.khue_logistic_oversample_model)"
   ]
  },
  {
   "cell_type": "code",
   "execution_count": 74,
   "id": "bf8c7a28-6bf1-4c5d-bd03-b96c6facdde4",
   "metadata": {
    "tags": []
   },
   "outputs": [
    {
     "data": {
      "text/html": [
       "<div>\n",
       "<style scoped>\n",
       "    .dataframe tbody tr th:only-of-type {\n",
       "        vertical-align: middle;\n",
       "    }\n",
       "\n",
       "    .dataframe tbody tr th {\n",
       "        vertical-align: top;\n",
       "    }\n",
       "\n",
       "    .dataframe thead th {\n",
       "        text-align: right;\n",
       "    }\n",
       "</style>\n",
       "<table border=\"1\" class=\"dataframe\">\n",
       "  <thead>\n",
       "    <tr style=\"text-align: right;\">\n",
       "      <th></th>\n",
       "      <th>trial_id</th>\n",
       "      <th>precision</th>\n",
       "      <th>recall</th>\n",
       "      <th>accuracy</th>\n",
       "      <th>f1_score</th>\n",
       "      <th>log_loss</th>\n",
       "      <th>roc_auc</th>\n",
       "    </tr>\n",
       "  </thead>\n",
       "  <tbody>\n",
       "    <tr>\n",
       "      <th>0</th>\n",
       "      <td>1</td>\n",
       "      <td>0.041672</td>\n",
       "      <td>0.747326</td>\n",
       "      <td>0.876669</td>\n",
       "      <td>0.078942</td>\n",
       "      <td>0.342928</td>\n",
       "      <td>0.907319</td>\n",
       "    </tr>\n",
       "    <tr>\n",
       "      <th>1</th>\n",
       "      <td>2</td>\n",
       "      <td>0.041672</td>\n",
       "      <td>0.747326</td>\n",
       "      <td>0.876669</td>\n",
       "      <td>0.078942</td>\n",
       "      <td>0.342928</td>\n",
       "      <td>0.907327</td>\n",
       "    </tr>\n",
       "    <tr>\n",
       "      <th>2</th>\n",
       "      <td>3</td>\n",
       "      <td>0.041672</td>\n",
       "      <td>0.747326</td>\n",
       "      <td>0.876669</td>\n",
       "      <td>0.078942</td>\n",
       "      <td>0.342928</td>\n",
       "      <td>0.907323</td>\n",
       "    </tr>\n",
       "    <tr>\n",
       "      <th>3</th>\n",
       "      <td>4</td>\n",
       "      <td>0.041672</td>\n",
       "      <td>0.747326</td>\n",
       "      <td>0.876669</td>\n",
       "      <td>0.078942</td>\n",
       "      <td>0.342928</td>\n",
       "      <td>0.907304</td>\n",
       "    </tr>\n",
       "  </tbody>\n",
       "</table>\n",
       "</div>"
      ],
      "text/plain": [
       "   trial_id  precision    recall  accuracy  f1_score  log_loss   roc_auc\n",
       "0         1   0.041672  0.747326  0.876669  0.078942  0.342928  0.907319\n",
       "1         2   0.041672  0.747326  0.876669  0.078942  0.342928  0.907327\n",
       "2         3   0.041672  0.747326  0.876669  0.078942  0.342928  0.907323\n",
       "3         4   0.041672  0.747326  0.876669  0.078942  0.342928  0.907304"
      ]
     },
     "metadata": {},
     "output_type": "display_data"
    }
   ],
   "source": [
    "display(logistic_oversample_model_df)"
   ]
  },
  {
   "cell_type": "code",
   "execution_count": 66,
   "id": "cb2a01df-841e-4a52-93de-0785cb86120d",
   "metadata": {
    "tags": []
   },
   "outputs": [
    {
     "data": {
      "image/png": "[encoded data removed]",
      "text/plain": [
       "<Figure size 1000x600 with 1 Axes>"
      ]
     },
     "metadata": {},
     "output_type": "display_data"
    }
   ],
   "source": [
    "ax = logistic_oversample_model_df.plot(x='trial_id', kind='bar', figsize=(10, 6))\n",
    "plt.xlabel('Trials')\n",
    "plt.ylabel('Scores')\n",
    "plt.title('Logistic Regression (Oversample) Model')\n",
    "plt.legend(title='Metrics', bbox_to_anchor=(1.05, 1), loc='upper left')\n",
    "plt.xticks(rotation=0)\n",
    "plt.show()"
   ]
  },
  {
   "cell_type": "markdown",
   "id": "394964ff-7be0-4cc8-b190-3144345aae4b",
   "metadata": {},
   "source": [
    "### Logistic Regression (Weighted) Model"
   ]
  },
  {
   "cell_type": "code",
   "execution_count": 59,
   "id": "51138854-3d95-456d-8def-fd4a92d6425a",
   "metadata": {
    "tags": []
   },
   "outputs": [
    {
     "data": {
      "application/vnd.jupyter.widget-view+json": {
       "model_id": "cbf1ce47c8314db697068ecd7c7119c4",
       "version_major": 2,
       "version_minor": 0
      },
      "text/plain": [
       "Query is running:   0%|          |"
      ]
     },
     "metadata": {},
     "output_type": "display_data"
    },
    {
     "data": {
      "application/vnd.jupyter.widget-view+json": {
       "model_id": "133eb8c5489744cdaa2877f0d02d10c4",
       "version_major": 2,
       "version_minor": 0
      },
      "text/plain": [
       "Downloading:   0%|          |"
      ]
     },
     "metadata": {},
     "output_type": "display_data"
    }
   ],
   "source": [
    "%%bigquery logistic_weighted_model_df --project $PROJECT_ID \n",
    "SELECT * FROM ML.EVALUATE(MODEL khue_capstone.khue_logistic_weighted_model) "
   ]
  },
  {
   "cell_type": "code",
   "execution_count": 75,
   "id": "7a8841df-c285-48af-a06a-ff69e4e8f83b",
   "metadata": {
    "tags": []
   },
   "outputs": [
    {
     "data": {
      "text/html": [
       "<div>\n",
       "<style scoped>\n",
       "    .dataframe tbody tr th:only-of-type {\n",
       "        vertical-align: middle;\n",
       "    }\n",
       "\n",
       "    .dataframe tbody tr th {\n",
       "        vertical-align: top;\n",
       "    }\n",
       "\n",
       "    .dataframe thead th {\n",
       "        text-align: right;\n",
       "    }\n",
       "</style>\n",
       "<table border=\"1\" class=\"dataframe\">\n",
       "  <thead>\n",
       "    <tr style=\"text-align: right;\">\n",
       "      <th></th>\n",
       "      <th>trial_id</th>\n",
       "      <th>precision</th>\n",
       "      <th>recall</th>\n",
       "      <th>accuracy</th>\n",
       "      <th>f1_score</th>\n",
       "      <th>log_loss</th>\n",
       "      <th>roc_auc</th>\n",
       "    </tr>\n",
       "  </thead>\n",
       "  <tbody>\n",
       "    <tr>\n",
       "      <th>0</th>\n",
       "      <td>1</td>\n",
       "      <td>0.039605</td>\n",
       "      <td>0.720624</td>\n",
       "      <td>0.869667</td>\n",
       "      <td>0.075083</td>\n",
       "      <td>0.383574</td>\n",
       "      <td>0.886491</td>\n",
       "    </tr>\n",
       "    <tr>\n",
       "      <th>1</th>\n",
       "      <td>2</td>\n",
       "      <td>0.039605</td>\n",
       "      <td>0.720624</td>\n",
       "      <td>0.869667</td>\n",
       "      <td>0.075083</td>\n",
       "      <td>0.383580</td>\n",
       "      <td>0.886489</td>\n",
       "    </tr>\n",
       "    <tr>\n",
       "      <th>2</th>\n",
       "      <td>3</td>\n",
       "      <td>0.039602</td>\n",
       "      <td>0.720624</td>\n",
       "      <td>0.869658</td>\n",
       "      <td>0.075078</td>\n",
       "      <td>0.383633</td>\n",
       "      <td>0.886493</td>\n",
       "    </tr>\n",
       "    <tr>\n",
       "      <th>3</th>\n",
       "      <td>4</td>\n",
       "      <td>0.041442</td>\n",
       "      <td>0.711031</td>\n",
       "      <td>0.877149</td>\n",
       "      <td>0.078320</td>\n",
       "      <td>0.369842</td>\n",
       "      <td>0.887264</td>\n",
       "    </tr>\n",
       "  </tbody>\n",
       "</table>\n",
       "</div>"
      ],
      "text/plain": [
       "   trial_id  precision    recall  accuracy  f1_score  log_loss   roc_auc\n",
       "0         1   0.039605  0.720624  0.869667  0.075083  0.383574  0.886491\n",
       "1         2   0.039605  0.720624  0.869667  0.075083  0.383580  0.886489\n",
       "2         3   0.039602  0.720624  0.869658  0.075078  0.383633  0.886493\n",
       "3         4   0.041442  0.711031  0.877149  0.078320  0.369842  0.887264"
      ]
     },
     "metadata": {},
     "output_type": "display_data"
    }
   ],
   "source": [
    "display(logistic_weighted_model_df)"
   ]
  },
  {
   "cell_type": "code",
   "execution_count": 60,
   "id": "80d96a0d-57cb-46b9-bf3f-6d71d532179f",
   "metadata": {
    "tags": []
   },
   "outputs": [
    {
     "data": {
      "image/png": "[encoded data removed]",
      "text/plain": [
       "<Figure size 1000x600 with 1 Axes>"
      ]
     },
     "metadata": {},
     "output_type": "display_data"
    }
   ],
   "source": [
    "ax = logistic_weighted_model_df.plot(x='trial_id', kind='bar', figsize=(10, 6))\n",
    "plt.xlabel('Trials')\n",
    "plt.ylabel('Scores')\n",
    "plt.title('Logistic Regression (Weighted) Model')\n",
    "plt.legend(title='Metrics', bbox_to_anchor=(1.05, 1), loc='upper left')\n",
    "plt.xticks(rotation=0)\n",
    "plt.show()"
   ]
  },
  {
   "cell_type": "markdown",
   "id": "19f4cacf-15ac-4e85-a8c8-3d1f93427de3",
   "metadata": {},
   "source": [
    "# Validation"
   ]
  },
  {
   "cell_type": "markdown",
   "id": "8063715d-2a9d-4e79-adc6-4d6109b0378a",
   "metadata": {},
   "source": [
    "### Validate Logistic (undersampling) Model"
   ]
  },
  {
   "cell_type": "code",
   "execution_count": 40,
   "id": "d83e45e4-8fd6-40dd-af56-274a43b9e795",
   "metadata": {
    "tags": []
   },
   "outputs": [
    {
     "data": {
      "application/vnd.jupyter.widget-view+json": {
       "model_id": "3187b83732264ab3bedcac02282173f8",
       "version_major": 2,
       "version_minor": 0
      },
      "text/plain": [
       "Query is running:   0%|          |"
      ]
     },
     "metadata": {},
     "output_type": "display_data"
    },
    {
     "data": {
      "application/vnd.jupyter.widget-view+json": {
       "model_id": "920a0a68fb9a48d8817f478c9093f107",
       "version_major": 2,
       "version_minor": 0
      },
      "text/plain": [
       "Downloading:   0%|          |"
      ]
     },
     "metadata": {},
     "output_type": "display_data"
    }
   ],
   "source": [
    "%%bigquery logistic_undersample_model_validate_df --project $PROJECT_ID \n",
    "SELECT *\n",
    "FROM ML.EVALUATE(MODEL khue_capstone.khue_logistic_undersample_model, (\n",
    "  SELECT * FROM khue_capstone.may_2017\n",
    "))"
   ]
  },
  {
   "cell_type": "code",
   "execution_count": 166,
   "id": "467d52de-fd4b-4ab9-9d69-fad4b5543730",
   "metadata": {
    "tags": []
   },
   "outputs": [
    {
     "data": {
      "image/png": "[encoded data removed]",
      "text/plain": [
       "<Figure size 1000x600 with 1 Axes>"
      ]
     },
     "metadata": {},
     "output_type": "display_data"
    }
   ],
   "source": [
    "ax = logistic_undersample_model_validate_df.plot(x='trial_id', kind='bar', figsize=(10, 6))\n",
    "plt.xlabel('Trials')\n",
    "plt.ylabel('Scores')\n",
    "plt.title('Logistic Regression (Undersample) Model Validation(test)')\n",
    "plt.legend(title='Metrics', bbox_to_anchor=(1.05, 1), loc='upper left')\n",
    "plt.xticks(rotation=0)\n",
    "plt.show()"
   ]
  },
  {
   "cell_type": "code",
   "execution_count": 93,
   "id": "230cbeb6-c902-4ea9-bd79-fa2ea61615a2",
   "metadata": {
    "tags": []
   },
   "outputs": [
    {
     "data": {
      "text/html": [
       "<div>\n",
       "<style scoped>\n",
       "    .dataframe tbody tr th:only-of-type {\n",
       "        vertical-align: middle;\n",
       "    }\n",
       "\n",
       "    .dataframe tbody tr th {\n",
       "        vertical-align: top;\n",
       "    }\n",
       "\n",
       "    .dataframe thead th {\n",
       "        text-align: right;\n",
       "    }\n",
       "</style>\n",
       "<table border=\"1\" class=\"dataframe\">\n",
       "  <thead>\n",
       "    <tr style=\"text-align: right;\">\n",
       "      <th></th>\n",
       "      <th>trial_id</th>\n",
       "      <th>precision</th>\n",
       "      <th>recall</th>\n",
       "      <th>accuracy</th>\n",
       "      <th>f1_score</th>\n",
       "      <th>log_loss</th>\n",
       "      <th>roc_auc</th>\n",
       "    </tr>\n",
       "  </thead>\n",
       "  <tbody>\n",
       "    <tr>\n",
       "      <th>0</th>\n",
       "      <td>3</td>\n",
       "      <td>0.045435</td>\n",
       "      <td>0.780772</td>\n",
       "      <td>0.854238</td>\n",
       "      <td>0.085872</td>\n",
       "      <td>0.355758</td>\n",
       "      <td>0.902628</td>\n",
       "    </tr>\n",
       "  </tbody>\n",
       "</table>\n",
       "</div>"
      ],
      "text/plain": [
       "   trial_id  precision    recall  accuracy  f1_score  log_loss   roc_auc\n",
       "0         3   0.045435  0.780772  0.854238  0.085872  0.355758  0.902628"
      ]
     },
     "metadata": {},
     "output_type": "display_data"
    }
   ],
   "source": [
    "display(logistic_undersample_model_validate_df)"
   ]
  },
  {
   "cell_type": "code",
   "execution_count": 95,
   "id": "db61c79a-c768-4a8d-8c13-b4d4e3e81fea",
   "metadata": {
    "tags": []
   },
   "outputs": [
    {
     "data": {
      "image/png": "[encoded data removed]",
      "text/plain": [
       "<Figure size 1000x600 with 1 Axes>"
      ]
     },
     "metadata": {},
     "output_type": "display_data"
    }
   ],
   "source": [
    "row_to_plot = logistic_undersample_model_df[logistic_undersample_model_df['trial_id'] == 3]\n",
    "\n",
    "# Plot the selected row\n",
    "ax = row_to_plot.plot(x='trial_id', kind='bar', figsize=(10, 6))\n",
    "plt.xlabel('Trials')\n",
    "plt.ylabel('Scores')\n",
    "plt.title('Logistict Regression (undersampling) - Trial 3')\n",
    "plt.legend(title='Metrics', bbox_to_anchor=(1.05, 1), loc='upper left')\n",
    "plt.xticks(rotation=0)\n",
    "plt.show()"
   ]
  },
  {
   "cell_type": "code",
   "execution_count": 96,
   "id": "a290fda0-8e15-4a71-b326-234fdb48d7e3",
   "metadata": {
    "tags": []
   },
   "outputs": [
    {
     "data": {
      "text/html": [
       "<div>\n",
       "<style scoped>\n",
       "    .dataframe tbody tr th:only-of-type {\n",
       "        vertical-align: middle;\n",
       "    }\n",
       "\n",
       "    .dataframe tbody tr th {\n",
       "        vertical-align: top;\n",
       "    }\n",
       "\n",
       "    .dataframe thead th {\n",
       "        text-align: right;\n",
       "    }\n",
       "</style>\n",
       "<table border=\"1\" class=\"dataframe\">\n",
       "  <thead>\n",
       "    <tr style=\"text-align: right;\">\n",
       "      <th></th>\n",
       "      <th>trial_id</th>\n",
       "      <th>precision</th>\n",
       "      <th>recall</th>\n",
       "      <th>accuracy</th>\n",
       "      <th>f1_score</th>\n",
       "      <th>log_loss</th>\n",
       "      <th>roc_auc</th>\n",
       "    </tr>\n",
       "  </thead>\n",
       "  <tbody>\n",
       "    <tr>\n",
       "      <th>2</th>\n",
       "      <td>3</td>\n",
       "      <td>0.845088</td>\n",
       "      <td>0.804556</td>\n",
       "      <td>0.82905</td>\n",
       "      <td>0.824324</td>\n",
       "      <td>0.396637</td>\n",
       "      <td>0.905724</td>\n",
       "    </tr>\n",
       "  </tbody>\n",
       "</table>\n",
       "</div>"
      ],
      "text/plain": [
       "   trial_id  precision    recall  accuracy  f1_score  log_loss   roc_auc\n",
       "2         3   0.845088  0.804556   0.82905  0.824324  0.396637  0.905724"
      ]
     },
     "metadata": {},
     "output_type": "display_data"
    }
   ],
   "source": [
    "display(row_to_plot)"
   ]
  },
  {
   "cell_type": "markdown",
   "id": "c841ff93-593f-4bd9-b310-14e802b41dfb",
   "metadata": {},
   "source": [
    "### Validate Boosted Tree Model"
   ]
  },
  {
   "cell_type": "code",
   "execution_count": 246,
   "id": "49f2b53e-f752-4684-b075-ba402df1aaca",
   "metadata": {
    "tags": []
   },
   "outputs": [
    {
     "data": {
      "application/vnd.jupyter.widget-view+json": {
       "model_id": "9a38c0db9120493993ad6ba306062952",
       "version_major": 2,
       "version_minor": 0
      },
      "text/plain": [
       "Query is running:   0%|          |"
      ]
     },
     "metadata": {},
     "output_type": "display_data"
    },
    {
     "data": {
      "application/vnd.jupyter.widget-view+json": {
       "model_id": "767dd2a15fe844a19946f215a3092ee6",
       "version_major": 2,
       "version_minor": 0
      },
      "text/plain": [
       "Downloading:   0%|          |"
      ]
     },
     "metadata": {},
     "output_type": "display_data"
    }
   ],
   "source": [
    "%%bigquery boosted_tree_validate_df --project $PROJECT_ID \n",
    "SELECT *\n",
    "FROM ML.EVALUATE(MODEL khue_capstone.khue_boosted_tree_model, (\n",
    "  SELECT * FROM khue_capstone.may_2017\n",
    "))"
   ]
  },
  {
   "cell_type": "code",
   "execution_count": 247,
   "id": "be277fd9-6229-4ebf-b003-d679e72fa704",
   "metadata": {
    "tags": []
   },
   "outputs": [
    {
     "data": {
      "image/png": "[encoded data removed]",
      "text/plain": [
       "<Figure size 1000x600 with 1 Axes>"
      ]
     },
     "metadata": {},
     "output_type": "display_data"
    }
   ],
   "source": [
    "ax = boosted_tree_validate_df.plot(x='trial_id', kind='bar', figsize=(10, 6))\n",
    "plt.xlabel('Trials')\n",
    "plt.ylabel('Scores')\n",
    "plt.title('Boosted Tree Model Validation(test)')\n",
    "plt.legend(title='Metrics', bbox_to_anchor=(1.05, 1), loc='upper left')\n",
    "plt.xticks(rotation=0)\n",
    "plt.show()"
   ]
  },
  {
   "cell_type": "code",
   "execution_count": 248,
   "id": "0b1a1c41-667b-4126-8082-e67a9474e174",
   "metadata": {
    "tags": []
   },
   "outputs": [
    {
     "data": {
      "text/html": [
       "<div>\n",
       "<style scoped>\n",
       "    .dataframe tbody tr th:only-of-type {\n",
       "        vertical-align: middle;\n",
       "    }\n",
       "\n",
       "    .dataframe tbody tr th {\n",
       "        vertical-align: top;\n",
       "    }\n",
       "\n",
       "    .dataframe thead th {\n",
       "        text-align: right;\n",
       "    }\n",
       "</style>\n",
       "<table border=\"1\" class=\"dataframe\">\n",
       "  <thead>\n",
       "    <tr style=\"text-align: right;\">\n",
       "      <th></th>\n",
       "      <th>trial_id</th>\n",
       "      <th>precision</th>\n",
       "      <th>recall</th>\n",
       "      <th>accuracy</th>\n",
       "      <th>f1_score</th>\n",
       "      <th>log_loss</th>\n",
       "      <th>roc_auc</th>\n",
       "    </tr>\n",
       "  </thead>\n",
       "  <tbody>\n",
       "    <tr>\n",
       "      <th>0</th>\n",
       "      <td>4</td>\n",
       "      <td>0.949657</td>\n",
       "      <td>0.423982</td>\n",
       "      <td>0.994752</td>\n",
       "      <td>0.586235</td>\n",
       "      <td>0.024162</td>\n",
       "      <td>0.937067</td>\n",
       "    </tr>\n",
       "  </tbody>\n",
       "</table>\n",
       "</div>"
      ],
      "text/plain": [
       "   trial_id  precision    recall  accuracy  f1_score  log_loss   roc_auc\n",
       "0         4   0.949657  0.423982  0.994752  0.586235  0.024162  0.937067"
      ]
     },
     "metadata": {},
     "output_type": "display_data"
    }
   ],
   "source": [
    "display(boosted_tree_validate_df)"
   ]
  },
  {
   "cell_type": "code",
   "execution_count": 250,
   "id": "4de2c270-158a-45ad-8bf7-4a477d063942",
   "metadata": {
    "tags": []
   },
   "outputs": [
    {
     "data": {
      "image/png": "[encoded data removed]",
      "text/plain": [
       "<Figure size 1000x600 with 1 Axes>"
      ]
     },
     "metadata": {},
     "output_type": "display_data"
    }
   ],
   "source": [
    "row_to_plot = boosted_tree_model_df[boosted_tree_model_df['trial_id'] == 4]\n",
    "\n",
    "# Plot the selected row\n",
    "ax = row_to_plot.plot(x='trial_id', kind='bar', figsize=(10, 6))\n",
    "plt.xlabel('Trials')\n",
    "plt.ylabel('Scores')\n",
    "plt.title('Boosted Tree - Trial 4')\n",
    "plt.legend(title='Metrics', bbox_to_anchor=(1.05, 1), loc='upper left')\n",
    "plt.xticks(rotation=0)\n",
    "plt.show()"
   ]
  },
  {
   "cell_type": "code",
   "execution_count": 251,
   "id": "bc9e5a7e-0fb0-43e0-8ae7-0238abb271c6",
   "metadata": {
    "tags": []
   },
   "outputs": [
    {
     "data": {
      "text/html": [
       "<div>\n",
       "<style scoped>\n",
       "    .dataframe tbody tr th:only-of-type {\n",
       "        vertical-align: middle;\n",
       "    }\n",
       "\n",
       "    .dataframe tbody tr th {\n",
       "        vertical-align: top;\n",
       "    }\n",
       "\n",
       "    .dataframe thead th {\n",
       "        text-align: right;\n",
       "    }\n",
       "</style>\n",
       "<table border=\"1\" class=\"dataframe\">\n",
       "  <thead>\n",
       "    <tr style=\"text-align: right;\">\n",
       "      <th></th>\n",
       "      <th>trial_id</th>\n",
       "      <th>precision</th>\n",
       "      <th>recall</th>\n",
       "      <th>accuracy</th>\n",
       "      <th>f1_score</th>\n",
       "      <th>log_loss</th>\n",
       "      <th>roc_auc</th>\n",
       "    </tr>\n",
       "  </thead>\n",
       "  <tbody>\n",
       "    <tr>\n",
       "      <th>3</th>\n",
       "      <td>4</td>\n",
       "      <td>0.968468</td>\n",
       "      <td>0.257794</td>\n",
       "      <td>0.99449</td>\n",
       "      <td>0.407197</td>\n",
       "      <td>0.024491</td>\n",
       "      <td>0.92178</td>\n",
       "    </tr>\n",
       "  </tbody>\n",
       "</table>\n",
       "</div>"
      ],
      "text/plain": [
       "   trial_id  precision    recall  accuracy  f1_score  log_loss  roc_auc\n",
       "3         4   0.968468  0.257794   0.99449  0.407197  0.024491  0.92178"
      ]
     },
     "metadata": {},
     "output_type": "display_data"
    }
   ],
   "source": [
    "display(row_to_plot)"
   ]
  },
  {
   "cell_type": "markdown",
   "id": "f4d0fdc4-2da9-4e6f-8623-42e79aa33273",
   "metadata": {},
   "source": [
    "# Upload and Deploy Model"
   ]
  },
  {
   "cell_type": "code",
   "execution_count": 5,
   "id": "3b2ea3e8-f0e7-42e6-acd1-1e48d13f545c",
   "metadata": {},
   "outputs": [],
   "source": [
    "# set model name\n",
    "MODEL_NAME = 'khue_boosted_tree_model'"
   ]
  },
  {
   "cell_type": "code",
   "execution_count": 6,
   "id": "83271b0d-d02a-4825-a905-f757a04fc17b",
   "metadata": {},
   "outputs": [],
   "source": [
    "# set dataset model name\n",
    "BQ_MODEL = f\"{BQ_DATASET}.{MODEL_NAME}\"\n",
    "BQ_MODEL_EXPORT_DIR = f\"gs://{GCS_BUCKET}/{MODEL_NAME}\""
   ]
  },
  {
   "cell_type": "code",
   "execution_count": 7,
   "id": "a6a7286c-70a1-440a-b63c-5684bf668738",
   "metadata": {},
   "outputs": [
    {
     "name": "stdout",
     "output_type": "stream",
     "text": [
      "Waiting on bqjob_r17a3e0681a017f89_0000018dd649b1d0_1 ... (3s) Current status: DONE   \n"
     ]
    }
   ],
   "source": [
    "# path to bucket\n",
    "!bq --location=$BQ_LOCATION extract \\\n",
    "--destination_format ML_XGBOOST_BOOSTER \\\n",
    "--model $BQ_MODEL \\\n",
    "$BQ_MODEL_EXPORT_DIR"
   ]
  },
  {
   "cell_type": "code",
   "execution_count": 8,
   "id": "c441cdc1-e4f0-4df1-b0c5-b28b0cdc80f9",
   "metadata": {},
   "outputs": [],
   "source": [
    "# image\n",
    "IMAGE_URI='us-docker.pkg.dev/vertex-ai/prediction/xgboost-cpu.1-4:latest'"
   ]
  },
  {
   "cell_type": "code",
   "execution_count": 9,
   "id": "232c1741-03ee-4703-be1c-146232442759",
   "metadata": {},
   "outputs": [
    {
     "name": "stdout",
     "output_type": "stream",
     "text": [
      "Creating Model\n",
      "Create Model backing LRO: projects/319407066227/locations/us-central1/models/7800161986838265856/operations/7540345224531279872\n",
      "Model created. Resource name: projects/319407066227/locations/us-central1/models/7800161986838265856@1\n",
      "To use this Model in another session:\n",
      "model = aiplatform.Model('projects/319407066227/locations/us-central1/models/7800161986838265856@1')\n"
     ]
    }
   ],
   "source": [
    "# upload model to bucket\n",
    "model = vertexai.Model.upload(\n",
    "    display_name=MODEL_NAME,\n",
    "    artifact_uri=BQ_MODEL_EXPORT_DIR,\n",
    "    serving_container_image_uri=IMAGE_URI,\n",
    ")"
   ]
  },
  {
   "cell_type": "code",
   "execution_count": 24,
   "id": "04b0c1a6-ad4d-4017-9e6a-1d207f55fab7",
   "metadata": {},
   "outputs": [
    {
     "name": "stdout",
     "output_type": "stream",
     "text": [
      "Creating Endpoint\n",
      "Create Endpoint backing LRO: projects/319407066227/locations/us-central1/endpoints/6713417888084000768/operations/1279215842579447808\n",
      "Endpoint created. Resource name: projects/319407066227/locations/us-central1/endpoints/6713417888084000768\n",
      "To use this Endpoint in another session:\n",
      "endpoint = aiplatform.Endpoint('projects/319407066227/locations/us-central1/endpoints/6713417888084000768')\n",
      "Deploying model to Endpoint : projects/319407066227/locations/us-central1/endpoints/6713417888084000768\n",
      "Deploy Endpoint model backing LRO: projects/319407066227/locations/us-central1/endpoints/6713417888084000768/operations/3216889582255603712\n",
      "Endpoint model deployed. Resource name: projects/319407066227/locations/us-central1/endpoints/6713417888084000768\n"
     ]
    }
   ],
   "source": [
    "# deploy model to endpoint\n",
    "endpoint = model.deploy(\n",
    "    traffic_split={\"0\": 100},\n",
    "    machine_type=\"e2-standard-2\",\n",
    ")"
   ]
  },
  {
   "cell_type": "markdown",
   "id": "2a91e836-6d19-48d4-8e0b-e2f2d188b6fc",
   "metadata": {},
   "source": [
    "# Model Online Predictions"
   ]
  },
  {
   "cell_type": "code",
   "execution_count": 25,
   "id": "d268ac5d-116a-4206-b3a3-46b2cd7b7c70",
   "metadata": {},
   "outputs": [],
   "source": [
    "CATEGORICAL_FEATURES = ['country', 'device', 'product_category', 'product_name', 'sub_continent',]"
   ]
  },
  {
   "cell_type": "code",
   "execution_count": 26,
   "id": "bca41131-23cf-4721-9721-a001e06a3548",
   "metadata": {
    "tags": []
   },
   "outputs": [],
   "source": [
    "def _build_cat_feature_encoders(cat_feature_list, gcs_bucket, model_name, na_value='Unknown'):\n",
    " \n",
    "    feature_encoders = {}\n",
    "    \n",
    "    for idx, feature in enumerate(cat_feature_list):\n",
    "        feature_encoder = OrdinalEncoder(handle_unknown=\"use_encoded_value\", unknown_value=-1)\n",
    "        feature_vocab_file = f\"gs://{gcs_bucket}/{model_name}/assets/{idx}_categorical_label.txt\"\n",
    "        feature_vocab_df = pd.read_csv(feature_vocab_file, delimiter = \"\\t\", header=None).fillna(na_value)\n",
    "        feature_encoder.fit(feature_vocab_df.values)\n",
    "        feature_encoders[feature] = feature_encoder\n",
    "    \n",
    "    return feature_encoders"
   ]
  },
  {
   "cell_type": "code",
   "execution_count": 27,
   "id": "3696b1f4-9411-4022-87a4-143dcc887418",
   "metadata": {
    "tags": []
   },
   "outputs": [],
   "source": [
    "def preprocess_xgboost(instances, cat_feature_list, feature_encoders):\n",
    "  \n",
    "    transformed_instances = []\n",
    "    \n",
    "    for instance in instances:\n",
    "        for feature in cat_feature_list:\n",
    "            feature_int = feature_encoders[feature].transform([[instance[feature]]]).item()\n",
    "            instance[feature] = feature_int\n",
    "            instance_list = list(instance.values())\n",
    "        transformed_instances.append(instance_list)\n",
    "\n",
    "    return transformed_instances"
   ]
  },
  {
   "cell_type": "code",
   "execution_count": 28,
   "id": "f7e5869b-8658-42b3-8d5f-49b590c5045b",
   "metadata": {
    "tags": []
   },
   "outputs": [],
   "source": [
    "feature_encoders = _build_cat_feature_encoders(CATEGORICAL_FEATURES, GCS_BUCKET, MODEL_NAME)"
   ]
  },
  {
   "cell_type": "code",
   "execution_count": 29,
   "id": "7efe9a28-962b-4ce7-a2d8-312bf3046b20",
   "metadata": {
    "tags": []
   },
   "outputs": [
    {
     "data": {
      "application/vnd.jupyter.widget-view+json": {
       "model_id": "512fc99da78145fb8004cb7405b25514",
       "version_major": 2,
       "version_minor": 0
      },
      "text/plain": [
       "Query is running:   0%|          |"
      ]
     },
     "metadata": {},
     "output_type": "display_data"
    },
    {
     "data": {
      "application/vnd.jupyter.widget-view+json": {
       "model_id": "acf192060ee64dc69628c3f005fd114a",
       "version_major": 2,
       "version_minor": 0
      },
      "text/plain": [
       "Downloading:   0%|          |"
      ]
     },
     "metadata": {},
     "output_type": "display_data"
    }
   ],
   "source": [
    "%%bigquery aug_df --project $PROJECT_ID \n",
    "SELECT *\n",
    "FROM khue_capstone.Aug_1_2017"
   ]
  },
  {
   "cell_type": "code",
   "execution_count": 30,
   "id": "20721a07-3152-491b-9254-afd07007f37d",
   "metadata": {
    "tags": []
   },
   "outputs": [],
   "source": [
    "filtered_df = aug_df[aug_df['add_to_cart'] == 1]"
   ]
  },
  {
   "cell_type": "code",
   "execution_count": 31,
   "id": "8d4ca041-1686-4388-9607-5b5a603e54f9",
   "metadata": {
    "tags": []
   },
   "outputs": [],
   "source": [
    "test_df = aug_df.loc[[0,1,2,35516,35550,35621]]\n",
    "test_df = test_df.drop(['add_to_cart'], axis=1)"
   ]
  },
  {
   "cell_type": "code",
   "execution_count": 32,
   "id": "4e786490-057f-487d-af0f-2645c2950e89",
   "metadata": {
    "tags": []
   },
   "outputs": [
    {
     "data": {
      "text/html": [
       "<div>\n",
       "<style scoped>\n",
       "    .dataframe tbody tr th:only-of-type {\n",
       "        vertical-align: middle;\n",
       "    }\n",
       "\n",
       "    .dataframe tbody tr th {\n",
       "        vertical-align: top;\n",
       "    }\n",
       "\n",
       "    .dataframe thead th {\n",
       "        text-align: right;\n",
       "    }\n",
       "</style>\n",
       "<table border=\"1\" class=\"dataframe\">\n",
       "  <thead>\n",
       "    <tr style=\"text-align: right;\">\n",
       "      <th></th>\n",
       "      <th>day</th>\n",
       "      <th>month</th>\n",
       "      <th>year</th>\n",
       "      <th>hits</th>\n",
       "      <th>page_views</th>\n",
       "      <th>time_on_site</th>\n",
       "      <th>hour</th>\n",
       "      <th>minute</th>\n",
       "      <th>device</th>\n",
       "      <th>sub_continent</th>\n",
       "      <th>country</th>\n",
       "      <th>product_category</th>\n",
       "      <th>product_name</th>\n",
       "      <th>product_price</th>\n",
       "    </tr>\n",
       "  </thead>\n",
       "  <tbody>\n",
       "    <tr>\n",
       "      <th>0</th>\n",
       "      <td>1</td>\n",
       "      <td>8</td>\n",
       "      <td>2017</td>\n",
       "      <td>18</td>\n",
       "      <td>15</td>\n",
       "      <td>493</td>\n",
       "      <td>8</td>\n",
       "      <td>32</td>\n",
       "      <td>tablet</td>\n",
       "      <td>Western Asia</td>\n",
       "      <td>Iraq</td>\n",
       "      <td>Home/Shop by Brand/YouTube</td>\n",
       "      <td>YouTube Custom Decals</td>\n",
       "      <td>1.99</td>\n",
       "    </tr>\n",
       "    <tr>\n",
       "      <th>1</th>\n",
       "      <td>1</td>\n",
       "      <td>8</td>\n",
       "      <td>2017</td>\n",
       "      <td>18</td>\n",
       "      <td>15</td>\n",
       "      <td>493</td>\n",
       "      <td>8</td>\n",
       "      <td>32</td>\n",
       "      <td>tablet</td>\n",
       "      <td>Western Asia</td>\n",
       "      <td>Iraq</td>\n",
       "      <td>Home/Shop by Brand/YouTube</td>\n",
       "      <td>22 oz YouTube Bottle Infuser</td>\n",
       "      <td>4.99</td>\n",
       "    </tr>\n",
       "    <tr>\n",
       "      <th>2</th>\n",
       "      <td>1</td>\n",
       "      <td>8</td>\n",
       "      <td>2017</td>\n",
       "      <td>18</td>\n",
       "      <td>15</td>\n",
       "      <td>493</td>\n",
       "      <td>8</td>\n",
       "      <td>32</td>\n",
       "      <td>tablet</td>\n",
       "      <td>Western Asia</td>\n",
       "      <td>Iraq</td>\n",
       "      <td>Home/Shop by Brand/YouTube</td>\n",
       "      <td>YouTube Twill Cap</td>\n",
       "      <td>10.99</td>\n",
       "    </tr>\n",
       "    <tr>\n",
       "      <th>35516</th>\n",
       "      <td>1</td>\n",
       "      <td>8</td>\n",
       "      <td>2017</td>\n",
       "      <td>17</td>\n",
       "      <td>13</td>\n",
       "      <td>504</td>\n",
       "      <td>15</td>\n",
       "      <td>42</td>\n",
       "      <td>desktop</td>\n",
       "      <td>Caribbean</td>\n",
       "      <td>Dominican Republic</td>\n",
       "      <td>Home/Shop by Brand/YouTube</td>\n",
       "      <td>YouTube Men's Short Sleeve Hero Tee Black</td>\n",
       "      <td>16.99</td>\n",
       "    </tr>\n",
       "    <tr>\n",
       "      <th>35550</th>\n",
       "      <td>1</td>\n",
       "      <td>8</td>\n",
       "      <td>2017</td>\n",
       "      <td>36</td>\n",
       "      <td>27</td>\n",
       "      <td>832</td>\n",
       "      <td>7</td>\n",
       "      <td>47</td>\n",
       "      <td>desktop</td>\n",
       "      <td>Caribbean</td>\n",
       "      <td>Dominican Republic</td>\n",
       "      <td>${escCatTitle}</td>\n",
       "      <td>YouTube Custom Decals</td>\n",
       "      <td>1.99</td>\n",
       "    </tr>\n",
       "    <tr>\n",
       "      <th>35621</th>\n",
       "      <td>1</td>\n",
       "      <td>8</td>\n",
       "      <td>2017</td>\n",
       "      <td>36</td>\n",
       "      <td>27</td>\n",
       "      <td>832</td>\n",
       "      <td>7</td>\n",
       "      <td>54</td>\n",
       "      <td>desktop</td>\n",
       "      <td>Caribbean</td>\n",
       "      <td>Dominican Republic</td>\n",
       "      <td>${escCatTitle}</td>\n",
       "      <td>Google Laptop and Cell Phone Stickers</td>\n",
       "      <td>2.99</td>\n",
       "    </tr>\n",
       "  </tbody>\n",
       "</table>\n",
       "</div>"
      ],
      "text/plain": [
       "       day  month  year  hits  page_views  time_on_site  hour  minute  \\\n",
       "0        1      8  2017    18          15           493     8      32   \n",
       "1        1      8  2017    18          15           493     8      32   \n",
       "2        1      8  2017    18          15           493     8      32   \n",
       "35516    1      8  2017    17          13           504    15      42   \n",
       "35550    1      8  2017    36          27           832     7      47   \n",
       "35621    1      8  2017    36          27           832     7      54   \n",
       "\n",
       "        device sub_continent             country            product_category  \\\n",
       "0       tablet  Western Asia                Iraq  Home/Shop by Brand/YouTube   \n",
       "1       tablet  Western Asia                Iraq  Home/Shop by Brand/YouTube   \n",
       "2       tablet  Western Asia                Iraq  Home/Shop by Brand/YouTube   \n",
       "35516  desktop     Caribbean  Dominican Republic  Home/Shop by Brand/YouTube   \n",
       "35550  desktop     Caribbean  Dominican Republic              ${escCatTitle}   \n",
       "35621  desktop     Caribbean  Dominican Republic              ${escCatTitle}   \n",
       "\n",
       "                                    product_name  product_price  \n",
       "0                          YouTube Custom Decals           1.99  \n",
       "1                   22 oz YouTube Bottle Infuser           4.99  \n",
       "2                              YouTube Twill Cap          10.99  \n",
       "35516  YouTube Men's Short Sleeve Hero Tee Black          16.99  \n",
       "35550                      YouTube Custom Decals           1.99  \n",
       "35621      Google Laptop and Cell Phone Stickers           2.99  "
      ]
     },
     "metadata": {},
     "output_type": "display_data"
    },
    {
     "name": "stdout",
     "output_type": "stream",
     "text": [
      "(6, 14)\n"
     ]
    }
   ],
   "source": [
    "display(test_df)\n",
    "print(test_df.shape)"
   ]
  },
  {
   "cell_type": "code",
   "execution_count": 33,
   "id": "f164ef47-4c58-4b72-819c-36233ab8c525",
   "metadata": {
    "tags": []
   },
   "outputs": [],
   "source": [
    "feature_encoders = _build_cat_feature_encoders(CATEGORICAL_FEATURES, GCS_BUCKET, MODEL_NAME)"
   ]
  },
  {
   "cell_type": "code",
   "execution_count": 34,
   "id": "e21345e3-97be-4886-9935-32bab75bfdc8",
   "metadata": {
    "tags": []
   },
   "outputs": [],
   "source": [
    "test_instances = test_df.astype(str).to_dict(orient='records')"
   ]
  },
  {
   "cell_type": "code",
   "execution_count": 35,
   "id": "053ab2da-cb79-4dc2-983b-f80855ab2bdb",
   "metadata": {
    "tags": []
   },
   "outputs": [],
   "source": [
    "transformed_test_instances = preprocess_xgboost(test_instances, CATEGORICAL_FEATURES, feature_encoders)"
   ]
  },
  {
   "cell_type": "code",
   "execution_count": 48,
   "id": "abedbfce-daa0-4e3b-9ec8-2f5e7f7b007b",
   "metadata": {
    "tags": []
   },
   "outputs": [
    {
     "name": "stdout",
     "output_type": "stream",
     "text": [
      "[['1', '8', '2017', '18', '15', '493', '8', '32', 3.0, 20.0, 68.0, 52.0, 346.0, '1.99'], ['1', '8', '2017', '18', '15', '493', '8', '32', 3.0, 20.0, 68.0, 52.0, 4.0, '4.99'], ['1', '8', '2017', '18', '15', '493', '8', '32', 3.0, 20.0, 68.0, 52.0, 367.0, '10.99'], ['1', '8', '2017', '17', '13', '504', '15', '42', 1.0, 2.0, 39.0, 52.0, 355.0, '16.99'], ['1', '8', '2017', '36', '27', '832', '7', '47', 1.0, 2.0, 39.0, 0.0, 346.0, '1.99'], ['1', '8', '2017', '36', '27', '832', '7', '54', 1.0, 2.0, 39.0, 0.0, 138.0, '2.99']]\n"
     ]
    }
   ],
   "source": [
    "print(transformed_test_instances)"
   ]
  },
  {
   "cell_type": "code",
   "execution_count": 51,
   "id": "57de0f95-1f08-412d-a130-2baa5e3e3236",
   "metadata": {
    "tags": []
   },
   "outputs": [],
   "source": [
    "predictions = endpoint.predict(instances=transformed_test_instances)"
   ]
  },
  {
   "cell_type": "code",
   "execution_count": 52,
   "id": "8622aa1c-aa2a-4f89-91e3-a4f1a4d94248",
   "metadata": {
    "tags": []
   },
   "outputs": [
    {
     "name": "stdout",
     "output_type": "stream",
     "text": [
      "Prediction: Customer 0 - Did not Add to Cart [0.007056023459881544, 0.9929439425468445]\n",
      "Prediction: Customer 1 - Did not Add to Cart [0.005723333917558193, 0.9942767024040222]\n",
      "Prediction: Customer 2 - Did not Add to Cart [0.006475087255239487, 0.9935249090194702]\n",
      "Prediction: Customer 3 - Did not Add to Cart [0.000867702707182616, 0.9991323351860046]\n",
      "Prediction: Customer 4 - Add to Cart [0.9250322580337524, 0.07496768981218338]\n",
      "Prediction: Customer 5 - Add to Cart [0.9253712892532349, 0.07462877035140991]\n"
     ]
    }
   ],
   "source": [
    "for idx, prediction in enumerate(predictions.predictions):\n",
    "    # Class labels [1,0] retrieved from model_metadata.json in GCS model dir.\n",
    "    # BQML binary classification default is 0.5 with above \"Churn\" and below \"Not Churn\".\n",
    "    is_churned = \"Add to Cart\" if prediction[0] >= 0.5 else \"Did not Add to Cart\"\n",
    "    print(f\"Prediction: Customer {idx} - {is_churned} {prediction}\")\n",
    "    # print(test_df.iloc[idx].astype(str).to_json() + \"\\n\")"
   ]
  },
  {
   "cell_type": "code",
   "execution_count": null,
   "id": "587c7df3-c0d5-4a59-a39b-5036ef2362fc",
   "metadata": {},
   "outputs": [],
   "source": []
  }
 ],
 "metadata": {
  "environment": {
   "kernel": "conda-root-py",
   "name": "workbench-notebooks.m115",
   "type": "gcloud",
   "uri": "gcr.io/deeplearning-platform-release/workbench-notebooks:m115"
  },
  "kernelspec": {
   "display_name": "Python 3 (ipykernel) (Local)",
   "language": "python",
   "name": "conda-root-py"
  },
  "language_info": {
   "codemirror_mode": {
    "name": "ipython",
    "version": 3
   },
   "file_extension": ".py",
   "mimetype": "text/x-python",
   "name": "python",
   "nbconvert_exporter": "python",
   "pygments_lexer": "ipython3",
   "version": "3.10.13"
  }
 },
 "nbformat": 4,
 "nbformat_minor": 5
}

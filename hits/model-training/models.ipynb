{
 "cells": [
  {
   "cell_type": "code",
   "execution_count": 1,
   "id": "4ba51285-0519-438a-a46f-b12aba1f60de",
   "metadata": {
    "tags": []
   },
   "outputs": [],
   "source": [
    "import pandas as pd\n",
    "from sklearn.pipeline import Pipeline\n",
    "from sklearn.preprocessing import StandardScaler, OneHotEncoder\n",
    "from sklearn.compose import ColumnTransformer\n",
    "from sklearn.svm import SVC\n",
    "from sklearn.neighbors import KNeighborsClassifier\n",
    "from sklearn.tree import DecisionTreeClassifier\n",
    "from sklearn.model_selection import train_test_split\n",
    "from sklearn.metrics import accuracy_score, precision_score, recall_score, confusion_matrix\n",
    "from google.cloud import storage"
   ]
  },
  {
   "cell_type": "code",
   "execution_count": 2,
   "id": "79d808fc-3e55-457e-9043-c9d1e8712003",
   "metadata": {
    "tags": []
   },
   "outputs": [],
   "source": [
    "%store -r eda_df"
   ]
  },
  {
   "cell_type": "code",
   "execution_count": 3,
   "id": "b6213fac-30f6-4057-8f95-82399138ec06",
   "metadata": {
    "tags": []
   },
   "outputs": [],
   "source": [
    "final_df = eda_df"
   ]
  },
  {
   "cell_type": "code",
   "execution_count": 4,
   "id": "268a086e-4d91-49eb-9ff5-816d2f33d00f",
   "metadata": {
    "tags": []
   },
   "outputs": [
    {
     "data": {
      "text/html": [
       "<div>\n",
       "<style scoped>\n",
       "    .dataframe tbody tr th:only-of-type {\n",
       "        vertical-align: middle;\n",
       "    }\n",
       "\n",
       "    .dataframe tbody tr th {\n",
       "        vertical-align: top;\n",
       "    }\n",
       "\n",
       "    .dataframe thead th {\n",
       "        text-align: right;\n",
       "    }\n",
       "</style>\n",
       "<table border=\"1\" class=\"dataframe\">\n",
       "  <thead>\n",
       "    <tr style=\"text-align: right;\">\n",
       "      <th></th>\n",
       "      <th>day</th>\n",
       "      <th>month</th>\n",
       "      <th>year</th>\n",
       "      <th>hits</th>\n",
       "      <th>page_views</th>\n",
       "      <th>time_on_site</th>\n",
       "      <th>hour</th>\n",
       "      <th>minute</th>\n",
       "      <th>device</th>\n",
       "      <th>sub_continent</th>\n",
       "      <th>country</th>\n",
       "      <th>product_category</th>\n",
       "      <th>product_name</th>\n",
       "      <th>product_price</th>\n",
       "      <th>add_to_cart</th>\n",
       "    </tr>\n",
       "  </thead>\n",
       "  <tbody>\n",
       "    <tr>\n",
       "      <th>0</th>\n",
       "      <td>30</td>\n",
       "      <td>11</td>\n",
       "      <td>2016</td>\n",
       "      <td>17</td>\n",
       "      <td>13</td>\n",
       "      <td>297</td>\n",
       "      <td>23</td>\n",
       "      <td>55</td>\n",
       "      <td>desktop</td>\n",
       "      <td>South America</td>\n",
       "      <td>Peru</td>\n",
       "      <td>Home/Shop by Brand/Google</td>\n",
       "      <td>Google Men's 100% Cotton Short Sleeve Hero Tee...</td>\n",
       "      <td>16.99</td>\n",
       "      <td>0</td>\n",
       "    </tr>\n",
       "    <tr>\n",
       "      <th>1</th>\n",
       "      <td>30</td>\n",
       "      <td>11</td>\n",
       "      <td>2016</td>\n",
       "      <td>17</td>\n",
       "      <td>13</td>\n",
       "      <td>297</td>\n",
       "      <td>23</td>\n",
       "      <td>58</td>\n",
       "      <td>desktop</td>\n",
       "      <td>South America</td>\n",
       "      <td>Peru</td>\n",
       "      <td>Home/Electronics</td>\n",
       "      <td>Google Device Holder Sticky Pad</td>\n",
       "      <td>4.99</td>\n",
       "      <td>0</td>\n",
       "    </tr>\n",
       "    <tr>\n",
       "      <th>2</th>\n",
       "      <td>30</td>\n",
       "      <td>11</td>\n",
       "      <td>2016</td>\n",
       "      <td>17</td>\n",
       "      <td>13</td>\n",
       "      <td>297</td>\n",
       "      <td>23</td>\n",
       "      <td>58</td>\n",
       "      <td>desktop</td>\n",
       "      <td>South America</td>\n",
       "      <td>Peru</td>\n",
       "      <td>Home/Electronics/Electronics Accessories</td>\n",
       "      <td>Grip Kit Cable Organizer</td>\n",
       "      <td>16.99</td>\n",
       "      <td>0</td>\n",
       "    </tr>\n",
       "    <tr>\n",
       "      <th>3</th>\n",
       "      <td>30</td>\n",
       "      <td>11</td>\n",
       "      <td>2016</td>\n",
       "      <td>17</td>\n",
       "      <td>13</td>\n",
       "      <td>297</td>\n",
       "      <td>23</td>\n",
       "      <td>58</td>\n",
       "      <td>desktop</td>\n",
       "      <td>South America</td>\n",
       "      <td>Peru</td>\n",
       "      <td>Home/Electronics</td>\n",
       "      <td>Electronics Accessory Pouch</td>\n",
       "      <td>4.99</td>\n",
       "      <td>0</td>\n",
       "    </tr>\n",
       "    <tr>\n",
       "      <th>4</th>\n",
       "      <td>30</td>\n",
       "      <td>11</td>\n",
       "      <td>2016</td>\n",
       "      <td>17</td>\n",
       "      <td>13</td>\n",
       "      <td>297</td>\n",
       "      <td>23</td>\n",
       "      <td>56</td>\n",
       "      <td>desktop</td>\n",
       "      <td>South America</td>\n",
       "      <td>Peru</td>\n",
       "      <td>Home/Apparel/Men's</td>\n",
       "      <td>Google Men's Watershed Full Zip Hoodie Grey</td>\n",
       "      <td>109.99</td>\n",
       "      <td>0</td>\n",
       "    </tr>\n",
       "  </tbody>\n",
       "</table>\n",
       "</div>"
      ],
      "text/plain": [
       "   day  month  year  hits  page_views  time_on_site  hour  minute   device  \\\n",
       "0   30     11  2016    17          13           297    23      55  desktop   \n",
       "1   30     11  2016    17          13           297    23      58  desktop   \n",
       "2   30     11  2016    17          13           297    23      58  desktop   \n",
       "3   30     11  2016    17          13           297    23      58  desktop   \n",
       "4   30     11  2016    17          13           297    23      56  desktop   \n",
       "\n",
       "   sub_continent country                          product_category  \\\n",
       "0  South America    Peru                 Home/Shop by Brand/Google   \n",
       "1  South America    Peru                          Home/Electronics   \n",
       "2  South America    Peru  Home/Electronics/Electronics Accessories   \n",
       "3  South America    Peru                          Home/Electronics   \n",
       "4  South America    Peru                        Home/Apparel/Men's   \n",
       "\n",
       "                                        product_name  product_price  \\\n",
       "0  Google Men's 100% Cotton Short Sleeve Hero Tee...          16.99   \n",
       "1                    Google Device Holder Sticky Pad           4.99   \n",
       "2                           Grip Kit Cable Organizer          16.99   \n",
       "3                        Electronics Accessory Pouch           4.99   \n",
       "4        Google Men's Watershed Full Zip Hoodie Grey         109.99   \n",
       "\n",
       "   add_to_cart  \n",
       "0            0  \n",
       "1            0  \n",
       "2            0  \n",
       "3            0  \n",
       "4            0  "
      ]
     },
     "metadata": {},
     "output_type": "display_data"
    }
   ],
   "source": [
    "display(final_df.head())"
   ]
  },
  {
   "cell_type": "code",
   "execution_count": 5,
   "id": "bb6cee49-f19d-4c31-b248-a7121e26a6ff",
   "metadata": {
    "tags": []
   },
   "outputs": [],
   "source": [
    "X = final_df.drop(['add_to_cart'], axis=1)\n",
    "y = final_df['add_to_cart']\n",
    "\n",
    "total_chunks = 10\n",
    "\n",
    "# Define the size of each chunk\n",
    "chunk_size = len(final_df) // total_chunks\n",
    "\n",
    "# Initialize lists to store the chunked data\n",
    "X_chunks_train = []\n",
    "y_chunks_train = []\n",
    "\n",
    "# Split the dataset into chunks\n",
    "for i in range(total_chunks):\n",
    "    start_index = i * chunk_size\n",
    "    end_index = start_index + chunk_size if i < total_chunks - 1 else None\n",
    "    \n",
    "    # Extract the chunk of data\n",
    "    X_chunk = X.iloc[start_index:end_index]\n",
    "    y_chunk = y.iloc[start_index:end_index]\n",
    "    \n",
    "    # Split the chunk into train and test sets\n",
    "    X_train_chunk, X_temp_chunk, y_train_chunk, y_temp_chunk = train_test_split(X_chunk, y_chunk, test_size=0.3, random_state=5)\n",
    "    X_val_chunk, X_test_chunk, y_val_chunk, y_test_chunk = train_test_split(X_temp_chunk, y_temp_chunk, test_size=0.5, random_state=5)\n",
    "    \n",
    "    # Store the chunked data\n",
    "    X_chunks_train.append(X_train_chunk)\n",
    "    y_chunks_train.append(y_train_chunk)\n",
    "\n",
    "# X_train, X_temp, y_train, y_temp = train_test_split(X, y, test_size=0.3, random_state=5)\n",
    "\n",
    "# X_val, X_test, y_val, y_test = train_test_split(X_temp, y_temp, test_size=0.5, random_state=5)"
   ]
  },
  {
   "cell_type": "code",
   "execution_count": 6,
   "id": "a3bf2450-fd77-4045-803c-1f8029d61e82",
   "metadata": {
    "tags": []
   },
   "outputs": [],
   "source": [
    "categorical_columns = ['device', 'sub_continent', 'country', 'product_category', 'product_name']\n",
    "numeric_columns = ['day', 'month', 'year', 'hits', 'page_views', 'time_on_site', 'hour', 'minute', 'product_price']"
   ]
  },
  {
   "cell_type": "code",
   "execution_count": 7,
   "id": "c6c4b1ff-0ab4-458b-9e32-88b60ddfba25",
   "metadata": {
    "tags": []
   },
   "outputs": [],
   "source": [
    "numerical_pipe = Pipeline(steps=[\n",
    "    ('normalizer', StandardScaler())\n",
    "])"
   ]
  },
  {
   "cell_type": "code",
   "execution_count": 8,
   "id": "4c1a579d-1330-46b9-98d2-dba42764b4a0",
   "metadata": {
    "tags": []
   },
   "outputs": [],
   "source": [
    "categorical_pipe = Pipeline(steps=[\n",
    "    ('one-hot', OneHotEncoder(handle_unknown='ignore'))\n",
    "])"
   ]
  },
  {
   "cell_type": "code",
   "execution_count": 9,
   "id": "ff994794-5c96-444c-9bb9-a8aab8c2a3e9",
   "metadata": {
    "tags": []
   },
   "outputs": [],
   "source": [
    "preprocessor = ColumnTransformer(\n",
    "    transformers=[\n",
    "        ('num', numerical_pipe, numeric_columns),\n",
    "        ('cat', categorical_pipe, categorical_columns)\n",
    "    ])"
   ]
  },
  {
   "cell_type": "code",
   "execution_count": 10,
   "id": "1ae4941b-413c-4dfa-ba59-817553ad97e0",
   "metadata": {
    "tags": []
   },
   "outputs": [],
   "source": [
    "model = KNeighborsClassifier()"
   ]
  },
  {
   "cell_type": "code",
   "execution_count": 11,
   "id": "5d78ebb6-463a-4866-aca5-fb5d60652b1a",
   "metadata": {
    "tags": []
   },
   "outputs": [],
   "source": [
    "model_pipeline = Pipeline(steps=[('preprocessor', preprocessor),\n",
    "                              ('model', model)\n",
    "                                ])"
   ]
  },
  {
   "cell_type": "code",
   "execution_count": 12,
   "id": "81a77a33-e4e3-4b94-95b6-757e1dbabf43",
   "metadata": {
    "tags": []
   },
   "outputs": [],
   "source": [
    "models = []\n",
    "\n",
    "# Train a model on each chunk and store it\n",
    "for X_chunk, y_chunk in zip(X_chunks_train, y_chunks_train):\n",
    "    model_pipeline.fit(X_chunk, y_chunk)\n",
    "    models.append(model_pipeline)\n",
    "\n",
    "# Evaluate the models on the validation set\n",
    "validation_scores = []\n",
    "for model in models:\n",
    "    val_accuracy = model.score(X_val_chunk, y_val_chunk)\n",
    "    validation_scores.append(val_accuracy)"
   ]
  },
  {
   "cell_type": "code",
   "execution_count": 13,
   "id": "25693eca-0bf5-4963-83fe-af2256a1f5a8",
   "metadata": {
    "tags": []
   },
   "outputs": [
    {
     "name": "stdout",
     "output_type": "stream",
     "text": [
      "Average Validation Accuracy: 0.99331644477982\n"
     ]
    }
   ],
   "source": [
    "average_validation_accuracy = sum(validation_scores) / len(validation_scores)\n",
    "print(\"Average Validation Accuracy:\", average_validation_accuracy)"
   ]
  },
  {
   "cell_type": "code",
   "execution_count": 17,
   "id": "5d1a294e-d71f-4b55-83d4-b18a89563fef",
   "metadata": {
    "tags": []
   },
   "outputs": [],
   "source": [
    "model_2 = SVC()"
   ]
  },
  {
   "cell_type": "code",
   "execution_count": 18,
   "id": "0396411e-66b6-4d23-a40d-c75b6c5ec49d",
   "metadata": {
    "tags": []
   },
   "outputs": [],
   "source": [
    "model_pipeline = Pipeline(steps=[('preprocessor', preprocessor),\n",
    "                              ('model', model_2)\n",
    "                                ])"
   ]
  },
  {
   "cell_type": "code",
   "execution_count": 19,
   "id": "b8163e85-190c-459f-99a6-ba737d8bca8c",
   "metadata": {
    "tags": []
   },
   "outputs": [],
   "source": [
    "models = []\n",
    "\n",
    "# Train a model on each chunk and store it\n",
    "for X_chunk, y_chunk in zip(X_chunks_train, y_chunks_train):\n",
    "    model_pipeline.fit(X_chunk, y_chunk)\n",
    "    models.append(model_pipeline)\n",
    "\n",
    "# Evaluate the models on the validation set\n",
    "validation_scores = []\n",
    "for model in models:\n",
    "    val_accuracy = model.score(X_val_chunk, y_val_chunk)\n",
    "    validation_scores.append(val_accuracy)"
   ]
  },
  {
   "cell_type": "code",
   "execution_count": 20,
   "id": "e749e508-e2a1-4c20-a423-05cb2f812d19",
   "metadata": {
    "tags": []
   },
   "outputs": [
    {
     "name": "stdout",
     "output_type": "stream",
     "text": [
      "Average Validation Accuracy: 0.9939093408074167\n"
     ]
    }
   ],
   "source": [
    "average_validation_accuracy = sum(validation_scores) / len(validation_scores)\n",
    "print(\"Average Validation Accuracy:\", average_validation_accuracy)"
   ]
  },
  {
   "cell_type": "code",
   "execution_count": 21,
   "id": "5d7426ef-bfb8-42e7-8194-aef5b1e4c2e5",
   "metadata": {
    "tags": []
   },
   "outputs": [],
   "source": [
    "model_3 = DecisionTreeClassifier()"
   ]
  },
  {
   "cell_type": "code",
   "execution_count": 22,
   "id": "b13a8641-c3f7-47eb-896e-7ad44711bc11",
   "metadata": {
    "tags": []
   },
   "outputs": [],
   "source": [
    "model_pipeline = Pipeline(steps=[('preprocessor', preprocessor),\n",
    "                              ('model', model_3)\n",
    "                                ])"
   ]
  },
  {
   "cell_type": "code",
   "execution_count": 23,
   "id": "b84b209d-09d4-4b5a-9ff1-725a9f7ee26b",
   "metadata": {
    "tags": []
   },
   "outputs": [],
   "source": [
    "models = []\n",
    "\n",
    "# Train a model on each chunk and store it\n",
    "for X_chunk, y_chunk in zip(X_chunks_train, y_chunks_train):\n",
    "    model_pipeline.fit(X_chunk, y_chunk)\n",
    "    models.append(model_pipeline)\n",
    "\n",
    "# Evaluate the models on the validation set\n",
    "validation_scores = []\n",
    "for model in models:\n",
    "    val_accuracy = model.score(X_val_chunk, y_val_chunk)\n",
    "    validation_scores.append(val_accuracy)"
   ]
  },
  {
   "cell_type": "code",
   "execution_count": 24,
   "id": "6fd19673-4a52-4fa2-a74c-56505814e986",
   "metadata": {
    "tags": []
   },
   "outputs": [
    {
     "name": "stdout",
     "output_type": "stream",
     "text": [
      "Average Validation Accuracy: 0.9930469465854579\n"
     ]
    }
   ],
   "source": [
    "average_validation_accuracy = sum(validation_scores) / len(validation_scores)\n",
    "print(\"Average Validation Accuracy:\", average_validation_accuracy)"
   ]
  }
 ],
 "metadata": {
  "environment": {
   "kernel": "conda-root-py",
   "name": "workbench-notebooks.m115",
   "type": "gcloud",
   "uri": "gcr.io/deeplearning-platform-release/workbench-notebooks:m115"
  },
  "kernelspec": {
   "display_name": "Python 3 (ipykernel) (Local)",
   "language": "python",
   "name": "conda-root-py"
  },
  "language_info": {
   "codemirror_mode": {
    "name": "ipython",
    "version": 3
   },
   "file_extension": ".py",
   "mimetype": "text/x-python",
   "name": "python",
   "nbconvert_exporter": "python",
   "pygments_lexer": "ipython3",
   "version": "3.10.13"
  }
 },
 "nbformat": 4,
 "nbformat_minor": 5
}
